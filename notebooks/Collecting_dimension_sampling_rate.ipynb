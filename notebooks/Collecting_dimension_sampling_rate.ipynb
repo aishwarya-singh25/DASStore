{
 "cells": [
  {
   "cell_type": "code",
   "execution_count": 15,
   "id": "78cf3f87",
   "metadata": {},
   "outputs": [],
   "source": [
    "import os\n",
    "import tqdm\n",
    "import h5py\n",
    "import xarray as xr\n",
    "from dask.distributed import Client\n",
    "from DASStore.modules import convert"
   ]
  },
  {
   "cell_type": "code",
   "execution_count": 16,
   "id": "37d88d65",
   "metadata": {},
   "outputs": [],
   "source": [
    "import numpy as np\n",
    "import pandas as pd\n",
    "import datetime\n",
    "from scipy.signal import detrend\n",
    "from numpy.fft import fftshift, fft2, fftfreq\n",
    "from datetime import datetime as DT\n",
    "import matplotlib.pyplot as plt\n",
    "import matplotlib.dates as mdates"
   ]
  },
  {
   "cell_type": "code",
   "execution_count": 17,
   "id": "d6ecd0d6",
   "metadata": {},
   "outputs": [],
   "source": [
    "def get_sampling_rate(file_base_path, \n",
    "                      chan_min=0,\n",
    "                      chan_max=-1, \n",
    "                      verbose=False,\n",
    "                      pad=False):\n",
    "#     data = np.array([])\n",
    "#     time = np.array([])\n",
    "    collecting_samplerate = []\n",
    "\n",
    "        \n",
    "    dt = datetime.timedelta(minutes=1) # Assume one minute file duration\n",
    "    file_list = os.listdir(file_base_path)\n",
    "    \n",
    "    for i in range(len(file_list)):\n",
    "        if file_list[i].endswith(\".h5\"):\n",
    "            this_file = h5_files_path + file_list[i]\n",
    "        \n",
    "            try:\n",
    "                f = h5py.File(this_file,'r')\n",
    "                attrs = dict(f['Acquisition'].attrs)\n",
    "                collecting_samplerate.append(attrs['PulseRate'])\n",
    "\n",
    "            except Exception as e: \n",
    "                print('File problem with: %s'%this_file)\n",
    "                print(e)\n",
    "    \n",
    "    return collecting_samplerate"
   ]
  },
  {
   "cell_type": "code",
   "execution_count": 18,
   "id": "8a24bbfb",
   "metadata": {},
   "outputs": [],
   "source": [
    "h5_files_path = '/Volumes/Elements/'\n",
    "# h5_files_path = '/Users/stlp/Desktop/samplefiles/'"
   ]
  },
  {
   "cell_type": "code",
   "execution_count": 20,
   "id": "9fca4e51",
   "metadata": {},
   "outputs": [],
   "source": [
    "# os.listdir(h5_files_path)"
   ]
  },
  {
   "cell_type": "markdown",
   "id": "729b831e",
   "metadata": {},
   "source": [
    "# Creating the pandas dataframe"
   ]
  },
  {
   "cell_type": "markdown",
   "id": "b5355e42",
   "metadata": {},
   "source": [
    "Create a csv file\n",
    "* of all file names\n",
    "* dimensions in time and distance\n",
    "* sampling rate\n"
   ]
  },
  {
   "cell_type": "code",
   "execution_count": 21,
   "id": "db9024c0",
   "metadata": {},
   "outputs": [],
   "source": [
    "File_Name = []\n",
    "Time_dimension = []\n",
    "Dist_dimension = []\n",
    "\n",
    "file_list = os.listdir(h5_files_path)"
   ]
  },
  {
   "cell_type": "code",
   "execution_count": 22,
   "id": "10b0d118",
   "metadata": {},
   "outputs": [],
   "source": [
    "for i in range(len(file_list)):\n",
    "    if file_list[i].endswith(\".h5\"):\n",
    "        File_Name.append(file_list[i])\n",
    "        file = h5py.File(h5_files_path+file_list[i], 'r')\n",
    "        Time_dimension.append(file['Acquisition']['Raw[0]']['RawData'].shape[0])\n",
    "        Dist_dimension.append(file['Acquisition']['Raw[0]']['RawData'].shape[1])"
   ]
  },
  {
   "cell_type": "code",
   "execution_count": 23,
   "id": "54739e08",
   "metadata": {},
   "outputs": [],
   "source": [
    "Sampling_Rate = get_sampling_rate(file_base_path = h5_files_path)"
   ]
  },
  {
   "cell_type": "code",
   "execution_count": 24,
   "id": "2837170b",
   "metadata": {},
   "outputs": [],
   "source": [
    "data = {'File_Name': File_Name,\n",
    "        'Time_dimension': Time_dimension,\n",
    "        'Dist_dimension': Dist_dimension,\n",
    "        'Sampling_Rate': Sampling_Rate}"
   ]
  },
  {
   "cell_type": "code",
   "execution_count": 25,
   "id": "a85fa284",
   "metadata": {},
   "outputs": [],
   "source": [
    "DAS_file_details = pd.DataFrame(data)"
   ]
  },
  {
   "cell_type": "code",
   "execution_count": 26,
   "id": "9c95539f",
   "metadata": {},
   "outputs": [
    {
     "data": {
      "text/html": [
       "<div>\n",
       "<style scoped>\n",
       "    .dataframe tbody tr th:only-of-type {\n",
       "        vertical-align: middle;\n",
       "    }\n",
       "\n",
       "    .dataframe tbody tr th {\n",
       "        vertical-align: top;\n",
       "    }\n",
       "\n",
       "    .dataframe thead th {\n",
       "        text-align: right;\n",
       "    }\n",
       "</style>\n",
       "<table border=\"1\" class=\"dataframe\">\n",
       "  <thead>\n",
       "    <tr style=\"text-align: right;\">\n",
       "      <th></th>\n",
       "      <th>File_Name</th>\n",
       "      <th>Time_dimension</th>\n",
       "      <th>Dist_dimension</th>\n",
       "      <th>Sampling_Rate</th>\n",
       "    </tr>\n",
       "  </thead>\n",
       "  <tbody>\n",
       "    <tr>\n",
       "      <th>0</th>\n",
       "      <td>whidbey_2022-10-19_05-52-00_UTC_000469.h5</td>\n",
       "      <td>30000</td>\n",
       "      <td>1721</td>\n",
       "      <td>500.0</td>\n",
       "    </tr>\n",
       "    <tr>\n",
       "      <th>1</th>\n",
       "      <td>whidbey_2022-10-26_19-28-00_UTC_011360.h5</td>\n",
       "      <td>120000</td>\n",
       "      <td>1721</td>\n",
       "      <td>2000.0</td>\n",
       "    </tr>\n",
       "    <tr>\n",
       "      <th>2</th>\n",
       "      <td>whidbey_2022-10-22_09-25-00_UTC_004998.h5</td>\n",
       "      <td>120000</td>\n",
       "      <td>1721</td>\n",
       "      <td>2000.0</td>\n",
       "    </tr>\n",
       "    <tr>\n",
       "      <th>3</th>\n",
       "      <td>whidbey_2022-10-29_21-22-00_UTC_015793.h5</td>\n",
       "      <td>6000</td>\n",
       "      <td>1721</td>\n",
       "      <td>100.0</td>\n",
       "    </tr>\n",
       "    <tr>\n",
       "      <th>4</th>\n",
       "      <td>whidbey_2022-10-29_11-49-00_UTC_015220.h5</td>\n",
       "      <td>6000</td>\n",
       "      <td>1721</td>\n",
       "      <td>100.0</td>\n",
       "    </tr>\n",
       "  </tbody>\n",
       "</table>\n",
       "</div>"
      ],
      "text/plain": [
       "                                   File_Name  Time_dimension  Dist_dimension  \\\n",
       "0  whidbey_2022-10-19_05-52-00_UTC_000469.h5           30000            1721   \n",
       "1  whidbey_2022-10-26_19-28-00_UTC_011360.h5          120000            1721   \n",
       "2  whidbey_2022-10-22_09-25-00_UTC_004998.h5          120000            1721   \n",
       "3  whidbey_2022-10-29_21-22-00_UTC_015793.h5            6000            1721   \n",
       "4  whidbey_2022-10-29_11-49-00_UTC_015220.h5            6000            1721   \n",
       "\n",
       "   Sampling_Rate  \n",
       "0          500.0  \n",
       "1         2000.0  \n",
       "2         2000.0  \n",
       "3          100.0  \n",
       "4          100.0  "
      ]
     },
     "execution_count": 26,
     "metadata": {},
     "output_type": "execute_result"
    }
   ],
   "source": [
    "DAS_file_details.head()"
   ]
  },
  {
   "cell_type": "code",
   "execution_count": 27,
   "id": "aab95502",
   "metadata": {},
   "outputs": [
    {
     "data": {
      "text/plain": [
       "(15830, 4)"
      ]
     },
     "execution_count": 27,
     "metadata": {},
     "output_type": "execute_result"
    }
   ],
   "source": [
    "DAS_file_details.shape"
   ]
  },
  {
   "cell_type": "code",
   "execution_count": 28,
   "id": "0fdf7d4b",
   "metadata": {},
   "outputs": [],
   "source": [
    "DAS_file_details.to_csv('DAS_file_details.csv', index = False)"
   ]
  },
  {
   "cell_type": "code",
   "execution_count": null,
   "id": "d2cff3a3",
   "metadata": {},
   "outputs": [],
   "source": []
  }
 ],
 "metadata": {
  "kernelspec": {
   "display_name": "Python 3 (ipykernel)",
   "language": "python",
   "name": "python3"
  },
  "language_info": {
   "codemirror_mode": {
    "name": "ipython",
    "version": 3
   },
   "file_extension": ".py",
   "mimetype": "text/x-python",
   "name": "python",
   "nbconvert_exporter": "python",
   "pygments_lexer": "ipython3",
   "version": "3.9.13"
  }
 },
 "nbformat": 4,
 "nbformat_minor": 5
}
