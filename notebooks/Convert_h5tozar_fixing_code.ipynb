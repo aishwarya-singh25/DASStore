{
 "cells": [
  {
   "cell_type": "code",
   "execution_count": 3,
   "id": "78cf3f87",
   "metadata": {},
   "outputs": [
    {
     "name": "stdout",
     "output_type": "stream",
     "text": [
      "The autoreload extension is already loaded. To reload it, use:\n",
      "  %reload_ext autoreload\n"
     ]
    }
   ],
   "source": [
    "import h5py\n",
    "import os\n",
    "import xarray as xr\n",
    "from dask.distributed import Client\n",
    "from DASStore.modules import convert\n",
    "from tqdm import tqdm\n",
    "\n",
    "%load_ext autoreload\n",
    "%autoreload 2\n"
   ]
  },
  {
   "cell_type": "code",
   "execution_count": 8,
   "id": "1d8d6454",
   "metadata": {
    "collapsed": true
   },
   "outputs": [
    {
     "name": "stdout",
     "output_type": "stream",
     "text": [
      "Requirement already satisfied: xarray in /Users/stlp/opt/anaconda3/lib/python3.9/site-packages (0.20.1)\n",
      "Collecting xarray\n",
      "  Downloading xarray-2023.1.0-py3-none-any.whl (973 kB)\n",
      "\u001b[2K     \u001b[90m━━━━━━━━━━━━━━━━━━━━━━━━━━━━━━━━━━━━━━━\u001b[0m \u001b[32m973.1/973.1 kB\u001b[0m \u001b[31m6.0 MB/s\u001b[0m eta \u001b[36m0:00:00\u001b[0m00:01\u001b[0m00:01\u001b[0m\n",
      "\u001b[?25hRequirement already satisfied: numpy>=1.20 in /Users/stlp/opt/anaconda3/lib/python3.9/site-packages (from xarray) (1.21.0)\n",
      "Requirement already satisfied: pandas>=1.3 in /Users/stlp/opt/anaconda3/lib/python3.9/site-packages (from xarray) (1.4.1)\n",
      "Requirement already satisfied: packaging>=21.3 in /Users/stlp/opt/anaconda3/lib/python3.9/site-packages (from xarray) (21.3)\n",
      "Requirement already satisfied: pyparsing!=3.0.5,>=2.0.2 in /Users/stlp/opt/anaconda3/lib/python3.9/site-packages (from packaging>=21.3->xarray) (3.0.9)\n",
      "Requirement already satisfied: python-dateutil>=2.8.1 in /Users/stlp/opt/anaconda3/lib/python3.9/site-packages (from pandas>=1.3->xarray) (2.8.2)\n",
      "Requirement already satisfied: pytz>=2020.1 in /Users/stlp/opt/anaconda3/lib/python3.9/site-packages (from pandas>=1.3->xarray) (2022.1)\n",
      "Requirement already satisfied: six>=1.5 in /Users/stlp/opt/anaconda3/lib/python3.9/site-packages (from python-dateutil>=2.8.1->pandas>=1.3->xarray) (1.16.0)\n",
      "Installing collected packages: xarray\n",
      "  Attempting uninstall: xarray\n",
      "    Found existing installation: xarray 0.20.1\n",
      "    Uninstalling xarray-0.20.1:\n",
      "      Successfully uninstalled xarray-0.20.1\n",
      "Successfully installed xarray-2023.1.0\n"
     ]
    }
   ],
   "source": [
    "# !pip install --upgrade xarray"
   ]
  },
  {
   "cell_type": "code",
   "execution_count": 2,
   "id": "2dd2aac9",
   "metadata": {
    "scrolled": false
   },
   "outputs": [
    {
     "data": {
      "text/plain": [
       "'2023.1.0'"
      ]
     },
     "execution_count": 2,
     "metadata": {},
     "output_type": "execute_result"
    }
   ],
   "source": [
    "# xr.__version__"
   ]
  },
  {
   "cell_type": "code",
   "execution_count": 3,
   "id": "df1edaf3",
   "metadata": {},
   "outputs": [],
   "source": [
    "# ## this will be the new convert.py file section\n",
    "# for file in tqdm(files):\n",
    "        \n",
    "#         hf = h5py.File(file) \n",
    "#         ds = xr.Dataset({\n",
    "#             'RawData':((['time', 'distance'], hf['Acquisition']['Raw[0]']['RawData'][:])),\n",
    "#             'RawDataSampleCount':('time', hf['Acquisition']['Raw[0]']['RawDataSampleCount'][:]),\n",
    "#             'RawDataTime':('time', hf['Acquisition']['Raw[0]']['RawDataTime'])}\n",
    "#         )"
   ]
  },
  {
   "cell_type": "markdown",
   "id": "897c62b9",
   "metadata": {},
   "source": [
    "# working with sample files"
   ]
  },
  {
   "cell_type": "code",
   "execution_count": 8,
   "id": "5a850e22",
   "metadata": {},
   "outputs": [],
   "source": [
    "h5_files_path = '/Users/stlp/Desktop/samplefiles/'\n",
    "fn_zarr_path = '/Users/stlp/Desktop/samplefiles/example.zarr'"
   ]
  },
  {
   "cell_type": "code",
   "execution_count": 4,
   "id": "98a65be4",
   "metadata": {},
   "outputs": [],
   "source": [
    "chunk_size = {'time':300000, 'distance':30}"
   ]
  },
  {
   "cell_type": "code",
   "execution_count": 5,
   "id": "bdd070cd",
   "metadata": {},
   "outputs": [
    {
     "data": {
      "text/plain": [
       "['whidbey_2022-10-19_00-15-00_UTC_000132.h5',\n",
       " '.DS_Store',\n",
       " 'whidbey_2022-10-19_00-11-00_UTC_000128.h5',\n",
       " 'whidbey_2022-10-19_00-13-00_UTC_000130.h5',\n",
       " 'whidbey_2022-10-19_00-12-00_UTC_000129.h5',\n",
       " 'whidbey_2022-10-19_00-14-00_UTC_000131.h5',\n",
       " 'whidbey_2022-10-19_00-10-52_UTC_000127.h5']"
      ]
     },
     "execution_count": 5,
     "metadata": {},
     "output_type": "execute_result"
    }
   ],
   "source": [
    "os.listdir(h5_files_path)"
   ]
  },
  {
   "cell_type": "code",
   "execution_count": 6,
   "id": "ca107535",
   "metadata": {},
   "outputs": [
    {
     "name": "stderr",
     "output_type": "stream",
     "text": [
      "100%|█████████████████████████████████████████████| 7/7 [00:06<00:00,  1.07it/s]\n"
     ]
    }
   ],
   "source": [
    "convert.h52zarr_xarray(h5_files_path, fn_zarr_path, chunk = chunk_size)"
   ]
  },
  {
   "cell_type": "markdown",
   "id": "8b7c7308",
   "metadata": {},
   "source": [
    "# Creating a Zar file"
   ]
  },
  {
   "cell_type": "code",
   "execution_count": 4,
   "id": "8a24bbfb",
   "metadata": {},
   "outputs": [],
   "source": [
    "# converting sample files first\n",
    "h5_files_path = '/Volumes/Elements/'\n",
    "fn_zarr_path = '/Volumes/Elements_1/combined_new.zarr'"
   ]
  },
  {
   "cell_type": "code",
   "execution_count": 3,
   "id": "33386c4b",
   "metadata": {},
   "outputs": [],
   "source": [
    "# for filename in os.listdir(h5_files_path):\n",
    "#     if filename.endswith(\".h5\"):\n",
    "#         continue\n",
    "#     else:\n",
    "#         print(filename)"
   ]
  },
  {
   "cell_type": "code",
   "execution_count": 6,
   "id": "167f3810",
   "metadata": {},
   "outputs": [],
   "source": [
    "current = 0\n",
    "file_list = os.listdir(h5_files_path)\n",
    "file_list.sort()"
   ]
  },
  {
   "cell_type": "code",
   "execution_count": 7,
   "id": "594c85b7",
   "metadata": {},
   "outputs": [
    {
     "name": "stderr",
     "output_type": "stream",
     "text": [
      "  0%|                                        | 17/15833 [00:00<03:23, 77.72it/s]"
     ]
    },
    {
     "name": "stdout",
     "output_type": "stream",
     "text": [
      "whidbey_2022-10-19_00-10-52_UTC_000127.h5 (3580, 1721)\n",
      "whidbey_2022-10-19_00-11-00_UTC_000128.h5 (30000, 1721)\n",
      "whidbey_2022-10-19_00-16-00_UTC_000133.h5 (25176, 1721)\n",
      "whidbey_2022-10-19_00-17-00_UTC_000134.h5 (29907, 1721)\n",
      "whidbey_2022-10-19_00-18-00_UTC_000135.h5 (30000, 1721)\n"
     ]
    },
    {
     "name": "stderr",
     "output_type": "stream",
     "text": [
      "  2%|▋                                      | 289/15833 [00:04<04:50, 53.47it/s]"
     ]
    },
    {
     "name": "stdout",
     "output_type": "stream",
     "text": [
      "whidbey_2022-10-19_04-48-00_UTC_000405.h5 (29920, 1721)\n",
      "whidbey_2022-10-19_04-49-00_UTC_000406.h5 (30000, 1721)\n"
     ]
    },
    {
     "name": "stderr",
     "output_type": "stream",
     "text": [
      "  6%|██▎                                    | 948/15833 [00:15<04:26, 55.84it/s]"
     ]
    },
    {
     "name": "stdout",
     "output_type": "stream",
     "text": [
      "whidbey_2022-10-19_15-45-00_UTC_001062.h5 (29950, 1721)\n",
      "whidbey_2022-10-19_15-46-00_UTC_001063.h5 (30000, 1721)\n"
     ]
    },
    {
     "name": "stderr",
     "output_type": "stream",
     "text": [
      "  7%|██▌                                   | 1080/15833 [00:17<03:37, 67.83it/s]"
     ]
    },
    {
     "name": "stdout",
     "output_type": "stream",
     "text": [
      "whidbey_2022-10-19_18-01-00_UTC_001198.h5 (13339, 1721)\n",
      "whidbey_2022-10-19_18-02-16_UTC_001198.h5 (21829, 1721)\n",
      "whidbey_2022-10-19_18-03-00_UTC_001199.h5 (30000, 1721)\n"
     ]
    },
    {
     "name": "stderr",
     "output_type": "stream",
     "text": [
      "  7%|██▋                                   | 1131/15833 [00:18<03:54, 62.60it/s]"
     ]
    },
    {
     "name": "stdout",
     "output_type": "stream",
     "text": [
      "whidbey_2022-10-19_18-47-00_UTC_001243.h5 (35827, 1721)\n",
      "whidbey_2022-10-19_18-48-00_UTC_001244.h5 (60000, 1721)\n",
      "whidbey_2022-10-19_18-50-00_UTC_001246.h5 (59894, 1721)\n",
      "whidbey_2022-10-19_18-51-00_UTC_001247.h5 (60000, 1721)\n"
     ]
    },
    {
     "name": "stderr",
     "output_type": "stream",
     "text": [
      "  8%|██▉                                   | 1200/15833 [00:19<03:42, 65.76it/s]"
     ]
    },
    {
     "name": "stdout",
     "output_type": "stream",
     "text": [
      "whidbey_2022-10-19_19-56-00_UTC_001312.h5 (44810, 1721)\n",
      "whidbey_2022-10-19_19-57-00_UTC_001313.h5 (30000, 1721)\n"
     ]
    },
    {
     "name": "stderr",
     "output_type": "stream",
     "text": [
      "  8%|███                                   | 1250/15833 [00:20<04:12, 57.86it/s]"
     ]
    },
    {
     "name": "stdout",
     "output_type": "stream",
     "text": [
      "whidbey_2022-10-19_20-43-00_UTC_001359.h5 (100504, 1721)\n",
      "whidbey_2022-10-19_20-44-00_UTC_001360.h5 (120000, 1721)\n"
     ]
    },
    {
     "name": "stderr",
     "output_type": "stream",
     "text": [
      " 15%|█████▋                                | 2395/15833 [00:37<03:22, 66.51it/s]"
     ]
    },
    {
     "name": "stdout",
     "output_type": "stream",
     "text": [
      "whidbey_2022-10-20_15-49-00_UTC_002505.h5 (119880, 1721)\n",
      "whidbey_2022-10-20_15-50-00_UTC_002506.h5 (120000, 1721)\n"
     ]
    },
    {
     "name": "stderr",
     "output_type": "stream",
     "text": [
      " 17%|██████▍                               | 2703/15833 [00:42<03:13, 67.83it/s]"
     ]
    },
    {
     "name": "stdout",
     "output_type": "stream",
     "text": [
      "whidbey_2022-10-20_21-00-00_UTC_002816.h5 (89960, 1721)\n",
      "whidbey_2022-10-20_21-01-25_UTC_002816.h5 (69464, 1721)\n",
      "whidbey_2022-10-20_21-02-00_UTC_002817.h5 (120000, 1721)\n"
     ]
    },
    {
     "name": "stderr",
     "output_type": "stream",
     "text": [
      " 21%|████████                              | 3340/15833 [00:52<03:08, 66.18it/s]"
     ]
    },
    {
     "name": "stdout",
     "output_type": "stream",
     "text": [
      "whidbey_2022-10-21_07-37-00_UTC_003452.h5 (29760, 1721)\n",
      "whidbey_2022-10-21_07-38-00_UTC_003453.h5 (120000, 1721)\n"
     ]
    },
    {
     "name": "stderr",
     "output_type": "stream",
     "text": [
      " 23%|████████▋                             | 3596/15833 [00:56<03:18, 61.63it/s]"
     ]
    },
    {
     "name": "stdout",
     "output_type": "stream",
     "text": [
      "whidbey_2022-10-21_11-54-00_UTC_003709.h5 (98856, 1721)\n",
      "whidbey_2022-10-21_11-55-34_UTC_003709.h5 (50648, 1721)\n",
      "whidbey_2022-10-21_11-56-00_UTC_003710.h5 (120000, 1721)\n"
     ]
    },
    {
     "name": "stderr",
     "output_type": "stream",
     "text": [
      " 25%|█████████▎                            | 3891/15833 [01:00<03:09, 63.16it/s]"
     ]
    },
    {
     "name": "stdout",
     "output_type": "stream",
     "text": [
      "whidbey_2022-10-21_16-50-00_UTC_004004.h5 (119862, 1721)\n",
      "whidbey_2022-10-21_16-51-00_UTC_004005.h5 (120000, 1721)\n"
     ]
    },
    {
     "name": "stderr",
     "output_type": "stream",
     "text": [
      " 27%|██████████▏                           | 4269/15833 [01:06<02:46, 69.63it/s]"
     ]
    },
    {
     "name": "stdout",
     "output_type": "stream",
     "text": [
      "whidbey_2022-10-21_23-10-00_UTC_004384.h5 (58162, 1721)\n",
      "whidbey_2022-10-21_23-11-13_UTC_004384.h5 (92366, 1721)\n",
      "whidbey_2022-10-21_23-12-00_UTC_004385.h5 (120000, 1721)\n"
     ]
    },
    {
     "name": "stderr",
     "output_type": "stream",
     "text": [
      " 32%|████████████▎                         | 5116/15833 [01:19<02:36, 68.37it/s]"
     ]
    },
    {
     "name": "stdout",
     "output_type": "stream",
     "text": [
      "whidbey_2022-10-22_13-11-00_UTC_005224.h5 (33522, 1721)\n",
      "whidbey_2022-10-22_13-12-01_UTC_005224.h5 (117646, 1721)\n",
      "whidbey_2022-10-22_13-13-00_UTC_005225.h5 (120000, 1721)\n"
     ]
    },
    {
     "name": "stderr",
     "output_type": "stream",
     "text": [
      " 52%|███████████████████▌                  | 8166/15833 [02:06<02:01, 63.34it/s]"
     ]
    },
    {
     "name": "stdout",
     "output_type": "stream",
     "text": [
      "whidbey_2022-10-24_16-03-00_UTC_008275.h5 (119852, 1721)\n",
      "whidbey_2022-10-24_16-04-00_UTC_008276.h5 (120000, 1721)\n"
     ]
    },
    {
     "name": "stderr",
     "output_type": "stream",
     "text": [
      " 56%|█████████████████████▍                | 8912/15833 [02:17<01:52, 61.46it/s]"
     ]
    },
    {
     "name": "stdout",
     "output_type": "stream",
     "text": [
      "whidbey_2022-10-25_04-30-00_UTC_009022.h5 (119920, 1721)\n",
      "whidbey_2022-10-25_04-31-00_UTC_009023.h5 (120000, 1721)\n"
     ]
    },
    {
     "name": "stderr",
     "output_type": "stream",
     "text": [
      " 89%|████████████████████████████████▊    | 14030/15833 [03:38<00:30, 59.41it/s]"
     ]
    },
    {
     "name": "stdout",
     "output_type": "stream",
     "text": [
      "whidbey_2022-10-28_17-50-00_UTC_014142.h5 (119851, 1721)\n",
      "whidbey_2022-10-28_17-51-00_UTC_014143.h5 (120000, 1721)\n"
     ]
    },
    {
     "name": "stderr",
     "output_type": "stream",
     "text": [
      " 89%|████████████████████████████████▉    | 14090/15833 [03:39<00:27, 62.66it/s]"
     ]
    },
    {
     "name": "stdout",
     "output_type": "stream",
     "text": [
      "whidbey_2022-10-28_18-44-00_UTC_014196.h5 (74144, 1721)\n",
      "whidbey_2022-10-28_18-45-00_UTC_014197.h5 (6000, 1721)\n"
     ]
    },
    {
     "name": "stderr",
     "output_type": "stream",
     "text": [
      " 91%|█████████████████████████████████▌   | 14388/15833 [03:43<00:22, 64.26it/s]"
     ]
    },
    {
     "name": "stdout",
     "output_type": "stream",
     "text": [
      "whidbey_2022-10-28_23-49-00_UTC_014501.h5 (5979, 1721)\n",
      "whidbey_2022-10-28_23-50-00_UTC_014502.h5 (6000, 1721)\n"
     ]
    },
    {
     "name": "stderr",
     "output_type": "stream",
     "text": [
      " 93%|██████████████████████████████████▎  | 14676/15833 [03:48<00:15, 73.43it/s]"
     ]
    },
    {
     "name": "stdout",
     "output_type": "stream",
     "text": [
      "whidbey_2022-10-29_04-32-00_UTC_014784.h5 (2448, 1721)\n",
      "whidbey_2022-10-29_04-33-22_UTC_014784.h5 (3728, 1721)\n",
      "whidbey_2022-10-29_04-34-00_UTC_014785.h5 (6000, 1721)\n"
     ]
    },
    {
     "name": "stderr",
     "output_type": "stream",
     "text": [
      "100%|█████████████████████████████████████| 15833/15833 [04:05<00:00, 64.53it/s]\n"
     ]
    }
   ],
   "source": [
    "for filename in tqdm(file_list):\n",
    "        if filename.endswith(\".h5\"):\n",
    "            hf = h5py.File(h5_files_path+filename)\n",
    "            if (hf['Acquisition']['Raw[0]']['RawData'].shape[0] != current):\n",
    "                print(filename, hf['Acquisition']['Raw[0]']['RawData'].shape)\n",
    "                current = hf['Acquisition']['Raw[0]']['RawData'].shape[0]\n",
    "            else:\n",
    "                pass\n",
    "        else:\n",
    "            pass"
   ]
  },
  {
   "cell_type": "code",
   "execution_count": null,
   "id": "9ac61df8",
   "metadata": {},
   "outputs": [],
   "source": [
    "whidbey_2022-10-19_00-10-52_UTC_000127.h5 (3580, 1721)\n",
    "whidbey_2022-10-19_00-11-00_UTC_000128.h5 (30000, 1721)\n",
    "whidbey_2022-10-19_00-16-00_UTC_000133.h5 (25176, 1721)\n",
    "whidbey_2022-10-19_00-17-00_UTC_000134.h5 (29907, 1721)\n",
    "whidbey_2022-10-19_00-18-00_UTC_000135.h5 (30000, 1721)\n",
    "All data files between whidbey_2022-10-19_00-18-00_UTC_000135.h5 and whidbey_2022-10-19_04-48-00_UTC_000405.h5 have shape (30000, 1721)\n",
    "whidbey_2022-10-19_04-48-00_UTC_000405.h5 (29920, 1721)\n",
    "whidbey_2022-10-19_04-49-00_UTC_000406.h5 (30000, 1721)\n",
    "All data files between whidbey_2022-10-19_04-49-00_UTC_000406.h5 and whidbey_2022-10-19_15-45-00_UTC_001062.h5  have shape (30000, 1721)\n",
    "whidbey_2022-10-19_15-45-00_UTC_001062.h5 (29950, 1721)\n",
    "whidbey_2022-10-19_15-46-00_UTC_001063.h5 (30000, 1721)\n",
    "All data files between whidbey_2022-10-19_15-46-00_UTC_001063.h5 and whidbey_2022-10-19_18-01-00_UTC_001198.h5  have shape (30000, 1721)\n",
    "whidbey_2022-10-19_18-01-00_UTC_001198.h5 (13339, 1721)\n",
    "whidbey_2022-10-19_18-02-16_UTC_001198.h5 (21829, 1721)\n",
    "whidbey_2022-10-19_18-03-00_UTC_001199.h5 (30000, 1721)\n",
    "All data files between whidbey_2022-10-19_18-03-00_UTC_001199.h5 and whidbey_2022-10-19_18-47-00_UTC_001243.h5  have shape (30000, 1721)\n",
    "whidbey_2022-10-19_18-47-00_UTC_001243.h5 (35827, 1721)\n",
    "whidbey_2022-10-19_18-48-00_UTC_001244.h5 (60000, 1721)\n",
    "whidbey_2022-10-19_18-50-00_UTC_001246.h5 (59894, 1721)\n",
    "whidbey_2022-10-19_18-51-00_UTC_001247.h5 (60000, 1721)\n",
    "All data files between whidbey_2022-10-19_18-51-00_UTC_001247.h5 and whidbey_2022-10-19_19-56-00_UTC_001312.h5  have shape (60000, 1721)\n",
    "whidbey_2022-10-19_19-56-00_UTC_001312.h5 (44810, 1721)\n",
    "whidbey_2022-10-19_19-57-00_UTC_001313.h5 (30000, 1721)\n",
    "All data files between whidbey_2022-10-19_19-57-00_UTC_001313.h5 and whidbey_2022-10-19_20-43-00_UTC_001359.h5  have shape (30000, 1721)\n",
    "whidbey_2022-10-19_20-43-00_UTC_001359.h5 (100504, 1721)\n",
    "whidbey_2022-10-19_20-44-00_UTC_001360.h5 (120000, 1721)\n",
    "All data files between whidbey_2022-10-19_20-44-00_UTC_001360.h5 and whidbey_2022-10-20_15-49-00_UTC_002505.h5  have shape (120000, 1721)\n",
    "whidbey_2022-10-20_15-49-00_UTC_002505.h5 (119880, 1721)\n",
    "whidbey_2022-10-20_15-50-00_UTC_002506.h5 (120000, 1721)\n",
    "All data files between whidbey_2022-10-20_15-50-00_UTC_002506.h5 and whidbey_2022-10-20_21-00-00_UTC_002816.h5  have shape (120000, 1721)\n",
    "whidbey_2022-10-20_21-00-00_UTC_002816.h5 (89960, 1721)\n",
    "whidbey_2022-10-20_21-01-25_UTC_002816.h5 (69464, 1721)\n",
    "whidbey_2022-10-20_21-02-00_UTC_002817.h5 (120000, 1721)\n",
    "All data files in between have shape (120000, 1721)\n",
    "whidbey_2022-10-21_07-37-00_UTC_003452.h5 (29760, 1721)\n",
    "whidbey_2022-10-21_07-38-00_UTC_003453.h5 (120000, 1721)\n",
    "All data files in between have shape (120000, 1721)\n",
    "whidbey_2022-10-21_11-54-00_UTC_003709.h5 (98856, 1721)\n",
    "whidbey_2022-10-21_11-55-34_UTC_003709.h5 (50648, 1721)\n",
    "whidbey_2022-10-21_11-56-00_UTC_003710.h5 (120000, 1721)\n",
    "All data files in between have shape (120000, 1721)\n",
    "whidbey_2022-10-21_16-50-00_UTC_004004.h5 (119862, 1721)\n",
    "whidbey_2022-10-21_16-51-00_UTC_004005.h5 (120000, 1721)\n",
    "All data files in between have shape (120000, 1721)\n",
    "whidbey_2022-10-21_23-10-00_UTC_004384.h5 (58162, 1721)\n",
    "whidbey_2022-10-21_23-11-13_UTC_004384.h5 (92366, 1721)\n",
    "whidbey_2022-10-21_23-12-00_UTC_004385.h5 (120000, 1721)\n",
    "All data files in between have shape (120000, 1721)\n",
    "whidbey_2022-10-22_13-11-00_UTC_005224.h5 (33522, 1721)\n",
    "whidbey_2022-10-22_13-12-01_UTC_005224.h5 (117646, 1721)\n",
    "whidbey_2022-10-22_13-13-00_UTC_005225.h5 (120000, 1721)\n",
    "All data files in between have shape (120000, 1721)\n",
    "whidbey_2022-10-24_16-03-00_UTC_008275.h5 (119852, 1721)\n",
    "whidbey_2022-10-24_16-04-00_UTC_008276.h5 (120000, 1721)\n",
    "All data files in between have shape (120000, 1721)\n",
    "whidbey_2022-10-25_04-30-00_UTC_009022.h5 (119920, 1721)\n",
    "whidbey_2022-10-25_04-31-00_UTC_009023.h5 (120000, 1721)\n",
    "All data files in between have shape (120000, 1721)\n",
    "whidbey_2022-10-28_17-50-00_UTC_014142.h5 (119851, 1721)\n",
    "whidbey_2022-10-28_17-51-00_UTC_014143.h5 (120000, 1721)\n",
    "All data files in between have shape (120000, 1721)\n",
    "whidbey_2022-10-28_18-44-00_UTC_014196.h5 (74144, 1721)\n",
    "whidbey_2022-10-28_18-45-00_UTC_014197.h5 (6000, 1721)\n",
    "All data files in between have shape (6000, 1721)\n",
    "whidbey_2022-10-28_23-49-00_UTC_014501.h5 (5979, 1721)\n",
    "whidbey_2022-10-28_23-50-00_UTC_014502.h5 (6000, 1721)\n",
    "All data files in between have shape (6000, 1721)\n",
    "whidbey_2022-10-29_04-32-00_UTC_014784.h5 (2448, 1721)\n",
    "whidbey_2022-10-29_04-33-22_UTC_014784.h5 (3728, 1721)\n",
    "whidbey_2022-10-29_04-34-00_UTC_014785.h5 (6000, 1721)"
   ]
  },
  {
   "cell_type": "code",
   "execution_count": 7,
   "id": "db0fddfe",
   "metadata": {},
   "outputs": [],
   "source": [
    "chunk_size = {'time':1, 'distance':1721}"
   ]
  },
  {
   "cell_type": "markdown",
   "id": "f2c4016d",
   "metadata": {},
   "source": [
    "# testing"
   ]
  },
  {
   "cell_type": "code",
   "execution_count": 9,
   "id": "aceecb68",
   "metadata": {},
   "outputs": [],
   "source": [
    "file = '/Users/stlp/Desktop/samplefiles/whidbey_2022-10-19_00-10-52_UTC_000127.h5'\n"
   ]
  },
  {
   "cell_type": "code",
   "execution_count": 10,
   "id": "7f872ebe",
   "metadata": {},
   "outputs": [],
   "source": [
    "# hf = h5py.File(file)\n",
    "\n",
    "# ds = xr.Dataset({\n",
    "#     'RawData':((['time', 'distance'], hf['Acquisition']['Raw[0]']['RawData'][:])),\n",
    "#     'RawDataSampleCount':('time', hf['Acquisition']['Raw[0]']['RawDataSampleCount'][:]),\n",
    "#     'RawDataTime':('time', hf['Acquisition']['Raw[0]']['RawDataTime'])}\n",
    "# )\n",
    "\n",
    "# ds = ds.chunk({'time':3000, 'distance':3000})"
   ]
  },
  {
   "cell_type": "code",
   "execution_count": 8,
   "id": "f5967c84",
   "metadata": {},
   "outputs": [
    {
     "name": "stderr",
     "output_type": "stream",
     "text": [
      "  0%|                               | 10/15833 [5:34:34<8823:13:57, 2007.43s/it]\n"
     ]
    },
    {
     "ename": "KeyboardInterrupt",
     "evalue": "",
     "output_type": "error",
     "traceback": [
      "\u001b[0;31m---------------------------------------------------------------------------\u001b[0m",
      "\u001b[0;31mKeyboardInterrupt\u001b[0m                         Traceback (most recent call last)",
      "\u001b[0;32m/var/folders/gx/4qc0s7c12f7b1k0ncmdwnc_40000gp/T/ipykernel_4693/3591704033.py\u001b[0m in \u001b[0;36m<module>\u001b[0;34m\u001b[0m\n\u001b[0;32m----> 1\u001b[0;31m \u001b[0mconvert\u001b[0m\u001b[0;34m.\u001b[0m\u001b[0mh52zarr_xarray\u001b[0m\u001b[0;34m(\u001b[0m\u001b[0mh5_files_path\u001b[0m\u001b[0;34m,\u001b[0m \u001b[0mfn_zarr_path\u001b[0m\u001b[0;34m,\u001b[0m \u001b[0mchunk\u001b[0m \u001b[0;34m=\u001b[0m \u001b[0mchunk_size\u001b[0m\u001b[0;34m)\u001b[0m\u001b[0;34m\u001b[0m\u001b[0;34m\u001b[0m\u001b[0m\n\u001b[0m",
      "\u001b[0;32m~/Desktop/DASstore/DASStore/modules/convert.py\u001b[0m in \u001b[0;36mh52zarr_xarray\u001b[0;34m(h5_dir, fn_zarr, chunk)\u001b[0m\n\u001b[1;32m     59\u001b[0m                 \u001b[0mds\u001b[0m\u001b[0;34m.\u001b[0m\u001b[0mto_zarr\u001b[0m\u001b[0;34m(\u001b[0m\u001b[0mfn_zarr\u001b[0m\u001b[0;34m,\u001b[0m \u001b[0mmode\u001b[0m\u001b[0;34m=\u001b[0m\u001b[0;34m'w-'\u001b[0m\u001b[0;34m)\u001b[0m\u001b[0;34m\u001b[0m\u001b[0;34m\u001b[0m\u001b[0m\n\u001b[1;32m     60\u001b[0m             \u001b[0;32melse\u001b[0m\u001b[0;34m:\u001b[0m\u001b[0;34m\u001b[0m\u001b[0;34m\u001b[0m\u001b[0m\n\u001b[0;32m---> 61\u001b[0;31m                 \u001b[0mds\u001b[0m\u001b[0;34m.\u001b[0m\u001b[0mto_zarr\u001b[0m\u001b[0;34m(\u001b[0m\u001b[0mfn_zarr\u001b[0m\u001b[0;34m,\u001b[0m \u001b[0mappend_dim\u001b[0m\u001b[0;34m=\u001b[0m\u001b[0;34m'time'\u001b[0m\u001b[0;34m)\u001b[0m\u001b[0;34m\u001b[0m\u001b[0;34m\u001b[0m\u001b[0m\n\u001b[0m\u001b[1;32m     62\u001b[0m         \u001b[0;32melse\u001b[0m\u001b[0;34m:\u001b[0m\u001b[0;34m\u001b[0m\u001b[0;34m\u001b[0m\u001b[0m\n\u001b[1;32m     63\u001b[0m             \u001b[0;32mpass\u001b[0m\u001b[0;34m\u001b[0m\u001b[0;34m\u001b[0m\u001b[0m\n",
      "\u001b[0;32m~/opt/anaconda3/lib/python3.9/site-packages/xarray/core/dataset.py\u001b[0m in \u001b[0;36mto_zarr\u001b[0;34m(self, store, chunk_store, mode, synchronizer, group, encoding, compute, consolidated, append_dim, region, safe_chunks, storage_options, zarr_version)\u001b[0m\n\u001b[1;32m   2097\u001b[0m         \u001b[0;32mfrom\u001b[0m \u001b[0mxarray\u001b[0m\u001b[0;34m.\u001b[0m\u001b[0mbackends\u001b[0m\u001b[0;34m.\u001b[0m\u001b[0mapi\u001b[0m \u001b[0;32mimport\u001b[0m \u001b[0mto_zarr\u001b[0m\u001b[0;34m\u001b[0m\u001b[0;34m\u001b[0m\u001b[0m\n\u001b[1;32m   2098\u001b[0m \u001b[0;34m\u001b[0m\u001b[0m\n\u001b[0;32m-> 2099\u001b[0;31m         return to_zarr(  # type: ignore\n\u001b[0m\u001b[1;32m   2100\u001b[0m             \u001b[0mself\u001b[0m\u001b[0;34m,\u001b[0m\u001b[0;34m\u001b[0m\u001b[0;34m\u001b[0m\u001b[0m\n\u001b[1;32m   2101\u001b[0m             \u001b[0mstore\u001b[0m\u001b[0;34m=\u001b[0m\u001b[0mstore\u001b[0m\u001b[0;34m,\u001b[0m\u001b[0;34m\u001b[0m\u001b[0;34m\u001b[0m\u001b[0m\n",
      "\u001b[0;32m~/opt/anaconda3/lib/python3.9/site-packages/xarray/backends/api.py\u001b[0m in \u001b[0;36mto_zarr\u001b[0;34m(dataset, store, chunk_store, mode, synchronizer, group, encoding, compute, consolidated, append_dim, region, safe_chunks, storage_options, zarr_version)\u001b[0m\n\u001b[1;32m   1669\u001b[0m     \u001b[0;31m# TODO: figure out how to properly handle unlimited_dims\u001b[0m\u001b[0;34m\u001b[0m\u001b[0;34m\u001b[0m\u001b[0m\n\u001b[1;32m   1670\u001b[0m     \u001b[0mdump_to_store\u001b[0m\u001b[0;34m(\u001b[0m\u001b[0mdataset\u001b[0m\u001b[0;34m,\u001b[0m \u001b[0mzstore\u001b[0m\u001b[0;34m,\u001b[0m \u001b[0mwriter\u001b[0m\u001b[0;34m,\u001b[0m \u001b[0mencoding\u001b[0m\u001b[0;34m=\u001b[0m\u001b[0mencoding\u001b[0m\u001b[0;34m)\u001b[0m\u001b[0;34m\u001b[0m\u001b[0;34m\u001b[0m\u001b[0m\n\u001b[0;32m-> 1671\u001b[0;31m     \u001b[0mwrites\u001b[0m \u001b[0;34m=\u001b[0m \u001b[0mwriter\u001b[0m\u001b[0;34m.\u001b[0m\u001b[0msync\u001b[0m\u001b[0;34m(\u001b[0m\u001b[0mcompute\u001b[0m\u001b[0;34m=\u001b[0m\u001b[0mcompute\u001b[0m\u001b[0;34m)\u001b[0m\u001b[0;34m\u001b[0m\u001b[0;34m\u001b[0m\u001b[0m\n\u001b[0m\u001b[1;32m   1672\u001b[0m \u001b[0;34m\u001b[0m\u001b[0m\n\u001b[1;32m   1673\u001b[0m     \u001b[0;32mif\u001b[0m \u001b[0mcompute\u001b[0m\u001b[0;34m:\u001b[0m\u001b[0;34m\u001b[0m\u001b[0;34m\u001b[0m\u001b[0m\n",
      "\u001b[0;32m~/opt/anaconda3/lib/python3.9/site-packages/xarray/backends/common.py\u001b[0m in \u001b[0;36msync\u001b[0;34m(self, compute)\u001b[0m\n\u001b[1;32m    169\u001b[0m             \u001b[0;31m# targets = [dask.delayed(t) for t in self.targets]\u001b[0m\u001b[0;34m\u001b[0m\u001b[0;34m\u001b[0m\u001b[0m\n\u001b[1;32m    170\u001b[0m \u001b[0;34m\u001b[0m\u001b[0m\n\u001b[0;32m--> 171\u001b[0;31m             delayed_store = da.store(\n\u001b[0m\u001b[1;32m    172\u001b[0m                 \u001b[0mself\u001b[0m\u001b[0;34m.\u001b[0m\u001b[0msources\u001b[0m\u001b[0;34m,\u001b[0m\u001b[0;34m\u001b[0m\u001b[0;34m\u001b[0m\u001b[0m\n\u001b[1;32m    173\u001b[0m                 \u001b[0mself\u001b[0m\u001b[0;34m.\u001b[0m\u001b[0mtargets\u001b[0m\u001b[0;34m,\u001b[0m\u001b[0;34m\u001b[0m\u001b[0;34m\u001b[0m\u001b[0m\n",
      "\u001b[0;32m~/opt/anaconda3/lib/python3.9/site-packages/dask/array/core.py\u001b[0m in \u001b[0;36mstore\u001b[0;34m(***failed resolving arguments***)\u001b[0m\n\u001b[1;32m   1224\u001b[0m     \u001b[0;32melif\u001b[0m \u001b[0mcompute\u001b[0m\u001b[0;34m:\u001b[0m\u001b[0;34m\u001b[0m\u001b[0;34m\u001b[0m\u001b[0m\n\u001b[1;32m   1225\u001b[0m         \u001b[0mstore_dsk\u001b[0m \u001b[0;34m=\u001b[0m \u001b[0mHighLevelGraph\u001b[0m\u001b[0;34m(\u001b[0m\u001b[0mlayers\u001b[0m\u001b[0;34m,\u001b[0m \u001b[0mdependencies\u001b[0m\u001b[0;34m)\u001b[0m\u001b[0;34m\u001b[0m\u001b[0;34m\u001b[0m\u001b[0m\n\u001b[0;32m-> 1226\u001b[0;31m         \u001b[0mcompute_as_if_collection\u001b[0m\u001b[0;34m(\u001b[0m\u001b[0mArray\u001b[0m\u001b[0;34m,\u001b[0m \u001b[0mstore_dsk\u001b[0m\u001b[0;34m,\u001b[0m \u001b[0mmap_keys\u001b[0m\u001b[0;34m,\u001b[0m \u001b[0;34m**\u001b[0m\u001b[0mkwargs\u001b[0m\u001b[0;34m)\u001b[0m\u001b[0;34m\u001b[0m\u001b[0;34m\u001b[0m\u001b[0m\n\u001b[0m\u001b[1;32m   1227\u001b[0m         \u001b[0;32mreturn\u001b[0m \u001b[0;32mNone\u001b[0m\u001b[0;34m\u001b[0m\u001b[0;34m\u001b[0m\u001b[0m\n\u001b[1;32m   1228\u001b[0m \u001b[0;34m\u001b[0m\u001b[0m\n",
      "\u001b[0;32m~/opt/anaconda3/lib/python3.9/site-packages/dask/base.py\u001b[0m in \u001b[0;36mcompute_as_if_collection\u001b[0;34m(cls, dsk, keys, scheduler, get, **kwargs)\u001b[0m\n\u001b[1;32m    345\u001b[0m     \u001b[0;31m# This merge should be removed once the underlying issue is fixed.\u001b[0m\u001b[0;34m\u001b[0m\u001b[0;34m\u001b[0m\u001b[0m\n\u001b[1;32m    346\u001b[0m     \u001b[0mdsk2\u001b[0m \u001b[0;34m=\u001b[0m \u001b[0mHighLevelGraph\u001b[0m\u001b[0;34m.\u001b[0m\u001b[0mmerge\u001b[0m\u001b[0;34m(\u001b[0m\u001b[0mdsk2\u001b[0m\u001b[0;34m)\u001b[0m\u001b[0;34m\u001b[0m\u001b[0;34m\u001b[0m\u001b[0m\n\u001b[0;32m--> 347\u001b[0;31m     \u001b[0;32mreturn\u001b[0m \u001b[0mschedule\u001b[0m\u001b[0;34m(\u001b[0m\u001b[0mdsk2\u001b[0m\u001b[0;34m,\u001b[0m \u001b[0mkeys\u001b[0m\u001b[0;34m,\u001b[0m \u001b[0;34m**\u001b[0m\u001b[0mkwargs\u001b[0m\u001b[0;34m)\u001b[0m\u001b[0;34m\u001b[0m\u001b[0;34m\u001b[0m\u001b[0m\n\u001b[0m\u001b[1;32m    348\u001b[0m \u001b[0;34m\u001b[0m\u001b[0m\n\u001b[1;32m    349\u001b[0m \u001b[0;34m\u001b[0m\u001b[0m\n",
      "\u001b[0;32m~/opt/anaconda3/lib/python3.9/site-packages/dask/threaded.py\u001b[0m in \u001b[0;36mget\u001b[0;34m(dsk, keys, cache, num_workers, pool, **kwargs)\u001b[0m\n\u001b[1;32m     87\u001b[0m             \u001b[0mpool\u001b[0m \u001b[0;34m=\u001b[0m \u001b[0mMultiprocessingPoolExecutor\u001b[0m\u001b[0;34m(\u001b[0m\u001b[0mpool\u001b[0m\u001b[0;34m)\u001b[0m\u001b[0;34m\u001b[0m\u001b[0;34m\u001b[0m\u001b[0m\n\u001b[1;32m     88\u001b[0m \u001b[0;34m\u001b[0m\u001b[0m\n\u001b[0;32m---> 89\u001b[0;31m     results = get_async(\n\u001b[0m\u001b[1;32m     90\u001b[0m         \u001b[0mpool\u001b[0m\u001b[0;34m.\u001b[0m\u001b[0msubmit\u001b[0m\u001b[0;34m,\u001b[0m\u001b[0;34m\u001b[0m\u001b[0;34m\u001b[0m\u001b[0m\n\u001b[1;32m     91\u001b[0m         \u001b[0mpool\u001b[0m\u001b[0;34m.\u001b[0m\u001b[0m_max_workers\u001b[0m\u001b[0;34m,\u001b[0m\u001b[0;34m\u001b[0m\u001b[0;34m\u001b[0m\u001b[0m\n",
      "\u001b[0;32m~/opt/anaconda3/lib/python3.9/site-packages/dask/local.py\u001b[0m in \u001b[0;36mget_async\u001b[0;34m(submit, num_workers, dsk, result, cache, get_id, rerun_exceptions_locally, pack_exception, raise_exception, callbacks, dumps, loads, chunksize, **kwargs)\u001b[0m\n\u001b[1;32m    498\u001b[0m             \u001b[0;32mwhile\u001b[0m \u001b[0mstate\u001b[0m\u001b[0;34m[\u001b[0m\u001b[0;34m\"waiting\"\u001b[0m\u001b[0;34m]\u001b[0m \u001b[0;32mor\u001b[0m \u001b[0mstate\u001b[0m\u001b[0;34m[\u001b[0m\u001b[0;34m\"ready\"\u001b[0m\u001b[0;34m]\u001b[0m \u001b[0;32mor\u001b[0m \u001b[0mstate\u001b[0m\u001b[0;34m[\u001b[0m\u001b[0;34m\"running\"\u001b[0m\u001b[0;34m]\u001b[0m\u001b[0;34m:\u001b[0m\u001b[0;34m\u001b[0m\u001b[0;34m\u001b[0m\u001b[0m\n\u001b[1;32m    499\u001b[0m                 \u001b[0mfire_tasks\u001b[0m\u001b[0;34m(\u001b[0m\u001b[0mchunksize\u001b[0m\u001b[0;34m)\u001b[0m\u001b[0;34m\u001b[0m\u001b[0;34m\u001b[0m\u001b[0m\n\u001b[0;32m--> 500\u001b[0;31m                 \u001b[0;32mfor\u001b[0m \u001b[0mkey\u001b[0m\u001b[0;34m,\u001b[0m \u001b[0mres_info\u001b[0m\u001b[0;34m,\u001b[0m \u001b[0mfailed\u001b[0m \u001b[0;32min\u001b[0m \u001b[0mqueue_get\u001b[0m\u001b[0;34m(\u001b[0m\u001b[0mqueue\u001b[0m\u001b[0;34m)\u001b[0m\u001b[0;34m.\u001b[0m\u001b[0mresult\u001b[0m\u001b[0;34m(\u001b[0m\u001b[0;34m)\u001b[0m\u001b[0;34m:\u001b[0m\u001b[0;34m\u001b[0m\u001b[0;34m\u001b[0m\u001b[0m\n\u001b[0m\u001b[1;32m    501\u001b[0m                     \u001b[0;32mif\u001b[0m \u001b[0mfailed\u001b[0m\u001b[0;34m:\u001b[0m\u001b[0;34m\u001b[0m\u001b[0;34m\u001b[0m\u001b[0m\n\u001b[1;32m    502\u001b[0m                         \u001b[0mexc\u001b[0m\u001b[0;34m,\u001b[0m \u001b[0mtb\u001b[0m \u001b[0;34m=\u001b[0m \u001b[0mloads\u001b[0m\u001b[0;34m(\u001b[0m\u001b[0mres_info\u001b[0m\u001b[0;34m)\u001b[0m\u001b[0;34m\u001b[0m\u001b[0;34m\u001b[0m\u001b[0m\n",
      "\u001b[0;32m~/opt/anaconda3/lib/python3.9/site-packages/dask/local.py\u001b[0m in \u001b[0;36mqueue_get\u001b[0;34m(q)\u001b[0m\n\u001b[1;32m    135\u001b[0m \u001b[0;34m\u001b[0m\u001b[0m\n\u001b[1;32m    136\u001b[0m     \u001b[0;32mdef\u001b[0m \u001b[0mqueue_get\u001b[0m\u001b[0;34m(\u001b[0m\u001b[0mq\u001b[0m\u001b[0;34m)\u001b[0m\u001b[0;34m:\u001b[0m\u001b[0;34m\u001b[0m\u001b[0;34m\u001b[0m\u001b[0m\n\u001b[0;32m--> 137\u001b[0;31m         \u001b[0;32mreturn\u001b[0m \u001b[0mq\u001b[0m\u001b[0;34m.\u001b[0m\u001b[0mget\u001b[0m\u001b[0;34m(\u001b[0m\u001b[0;34m)\u001b[0m\u001b[0;34m\u001b[0m\u001b[0;34m\u001b[0m\u001b[0m\n\u001b[0m\u001b[1;32m    138\u001b[0m \u001b[0;34m\u001b[0m\u001b[0m\n\u001b[1;32m    139\u001b[0m \u001b[0;34m\u001b[0m\u001b[0m\n",
      "\u001b[0;32m~/opt/anaconda3/lib/python3.9/queue.py\u001b[0m in \u001b[0;36mget\u001b[0;34m(self, block, timeout)\u001b[0m\n\u001b[1;32m    169\u001b[0m             \u001b[0;32melif\u001b[0m \u001b[0mtimeout\u001b[0m \u001b[0;32mis\u001b[0m \u001b[0;32mNone\u001b[0m\u001b[0;34m:\u001b[0m\u001b[0;34m\u001b[0m\u001b[0;34m\u001b[0m\u001b[0m\n\u001b[1;32m    170\u001b[0m                 \u001b[0;32mwhile\u001b[0m \u001b[0;32mnot\u001b[0m \u001b[0mself\u001b[0m\u001b[0;34m.\u001b[0m\u001b[0m_qsize\u001b[0m\u001b[0;34m(\u001b[0m\u001b[0;34m)\u001b[0m\u001b[0;34m:\u001b[0m\u001b[0;34m\u001b[0m\u001b[0;34m\u001b[0m\u001b[0m\n\u001b[0;32m--> 171\u001b[0;31m                     \u001b[0mself\u001b[0m\u001b[0;34m.\u001b[0m\u001b[0mnot_empty\u001b[0m\u001b[0;34m.\u001b[0m\u001b[0mwait\u001b[0m\u001b[0;34m(\u001b[0m\u001b[0;34m)\u001b[0m\u001b[0;34m\u001b[0m\u001b[0;34m\u001b[0m\u001b[0m\n\u001b[0m\u001b[1;32m    172\u001b[0m             \u001b[0;32melif\u001b[0m \u001b[0mtimeout\u001b[0m \u001b[0;34m<\u001b[0m \u001b[0;36m0\u001b[0m\u001b[0;34m:\u001b[0m\u001b[0;34m\u001b[0m\u001b[0;34m\u001b[0m\u001b[0m\n\u001b[1;32m    173\u001b[0m                 \u001b[0;32mraise\u001b[0m \u001b[0mValueError\u001b[0m\u001b[0;34m(\u001b[0m\u001b[0;34m\"'timeout' must be a non-negative number\"\u001b[0m\u001b[0;34m)\u001b[0m\u001b[0;34m\u001b[0m\u001b[0;34m\u001b[0m\u001b[0m\n",
      "\u001b[0;32m~/opt/anaconda3/lib/python3.9/threading.py\u001b[0m in \u001b[0;36mwait\u001b[0;34m(self, timeout)\u001b[0m\n\u001b[1;32m    310\u001b[0m         \u001b[0;32mtry\u001b[0m\u001b[0;34m:\u001b[0m    \u001b[0;31m# restore state no matter what (e.g., KeyboardInterrupt)\u001b[0m\u001b[0;34m\u001b[0m\u001b[0;34m\u001b[0m\u001b[0m\n\u001b[1;32m    311\u001b[0m             \u001b[0;32mif\u001b[0m \u001b[0mtimeout\u001b[0m \u001b[0;32mis\u001b[0m \u001b[0;32mNone\u001b[0m\u001b[0;34m:\u001b[0m\u001b[0;34m\u001b[0m\u001b[0;34m\u001b[0m\u001b[0m\n\u001b[0;32m--> 312\u001b[0;31m                 \u001b[0mwaiter\u001b[0m\u001b[0;34m.\u001b[0m\u001b[0macquire\u001b[0m\u001b[0;34m(\u001b[0m\u001b[0;34m)\u001b[0m\u001b[0;34m\u001b[0m\u001b[0;34m\u001b[0m\u001b[0m\n\u001b[0m\u001b[1;32m    313\u001b[0m                 \u001b[0mgotit\u001b[0m \u001b[0;34m=\u001b[0m \u001b[0;32mTrue\u001b[0m\u001b[0;34m\u001b[0m\u001b[0;34m\u001b[0m\u001b[0m\n\u001b[1;32m    314\u001b[0m             \u001b[0;32melse\u001b[0m\u001b[0;34m:\u001b[0m\u001b[0;34m\u001b[0m\u001b[0;34m\u001b[0m\u001b[0m\n",
      "\u001b[0;31mKeyboardInterrupt\u001b[0m: "
     ]
    }
   ],
   "source": [
    "convert.h52zarr_xarray(h5_files_path, fn_zarr_path, chunk = chunk_size)"
   ]
  },
  {
   "cell_type": "markdown",
   "id": "729b831e",
   "metadata": {},
   "source": [
    "# Checking the created zarr file"
   ]
  },
  {
   "cell_type": "code",
   "execution_count": 26,
   "id": "7ea45bf3",
   "metadata": {},
   "outputs": [],
   "source": [
    "ds_temp = xr.open_zarr(fn_zarr_path)"
   ]
  },
  {
   "cell_type": "code",
   "execution_count": 27,
   "id": "de996865",
   "metadata": {},
   "outputs": [
    {
     "data": {
      "text/html": [
       "<div><svg style=\"position: absolute; width: 0; height: 0; overflow: hidden\">\n",
       "<defs>\n",
       "<symbol id=\"icon-database\" viewBox=\"0 0 32 32\">\n",
       "<path d=\"M16 0c-8.837 0-16 2.239-16 5v4c0 2.761 7.163 5 16 5s16-2.239 16-5v-4c0-2.761-7.163-5-16-5z\"></path>\n",
       "<path d=\"M16 17c-8.837 0-16-2.239-16-5v6c0 2.761 7.163 5 16 5s16-2.239 16-5v-6c0 2.761-7.163 5-16 5z\"></path>\n",
       "<path d=\"M16 26c-8.837 0-16-2.239-16-5v6c0 2.761 7.163 5 16 5s16-2.239 16-5v-6c0 2.761-7.163 5-16 5z\"></path>\n",
       "</symbol>\n",
       "<symbol id=\"icon-file-text2\" viewBox=\"0 0 32 32\">\n",
       "<path d=\"M28.681 7.159c-0.694-0.947-1.662-2.053-2.724-3.116s-2.169-2.030-3.116-2.724c-1.612-1.182-2.393-1.319-2.841-1.319h-15.5c-1.378 0-2.5 1.121-2.5 2.5v27c0 1.378 1.122 2.5 2.5 2.5h23c1.378 0 2.5-1.122 2.5-2.5v-19.5c0-0.448-0.137-1.23-1.319-2.841zM24.543 5.457c0.959 0.959 1.712 1.825 2.268 2.543h-4.811v-4.811c0.718 0.556 1.584 1.309 2.543 2.268zM28 29.5c0 0.271-0.229 0.5-0.5 0.5h-23c-0.271 0-0.5-0.229-0.5-0.5v-27c0-0.271 0.229-0.5 0.5-0.5 0 0 15.499-0 15.5 0v7c0 0.552 0.448 1 1 1h7v19.5z\"></path>\n",
       "<path d=\"M23 26h-14c-0.552 0-1-0.448-1-1s0.448-1 1-1h14c0.552 0 1 0.448 1 1s-0.448 1-1 1z\"></path>\n",
       "<path d=\"M23 22h-14c-0.552 0-1-0.448-1-1s0.448-1 1-1h14c0.552 0 1 0.448 1 1s-0.448 1-1 1z\"></path>\n",
       "<path d=\"M23 18h-14c-0.552 0-1-0.448-1-1s0.448-1 1-1h14c0.552 0 1 0.448 1 1s-0.448 1-1 1z\"></path>\n",
       "</symbol>\n",
       "</defs>\n",
       "</svg>\n",
       "<style>/* CSS stylesheet for displaying xarray objects in jupyterlab.\n",
       " *\n",
       " */\n",
       "\n",
       ":root {\n",
       "  --xr-font-color0: var(--jp-content-font-color0, rgba(0, 0, 0, 1));\n",
       "  --xr-font-color2: var(--jp-content-font-color2, rgba(0, 0, 0, 0.54));\n",
       "  --xr-font-color3: var(--jp-content-font-color3, rgba(0, 0, 0, 0.38));\n",
       "  --xr-border-color: var(--jp-border-color2, #e0e0e0);\n",
       "  --xr-disabled-color: var(--jp-layout-color3, #bdbdbd);\n",
       "  --xr-background-color: var(--jp-layout-color0, white);\n",
       "  --xr-background-color-row-even: var(--jp-layout-color1, white);\n",
       "  --xr-background-color-row-odd: var(--jp-layout-color2, #eeeeee);\n",
       "}\n",
       "\n",
       "html[theme=dark],\n",
       "body[data-theme=dark],\n",
       "body.vscode-dark {\n",
       "  --xr-font-color0: rgba(255, 255, 255, 1);\n",
       "  --xr-font-color2: rgba(255, 255, 255, 0.54);\n",
       "  --xr-font-color3: rgba(255, 255, 255, 0.38);\n",
       "  --xr-border-color: #1F1F1F;\n",
       "  --xr-disabled-color: #515151;\n",
       "  --xr-background-color: #111111;\n",
       "  --xr-background-color-row-even: #111111;\n",
       "  --xr-background-color-row-odd: #313131;\n",
       "}\n",
       "\n",
       ".xr-wrap {\n",
       "  display: block !important;\n",
       "  min-width: 300px;\n",
       "  max-width: 700px;\n",
       "}\n",
       "\n",
       ".xr-text-repr-fallback {\n",
       "  /* fallback to plain text repr when CSS is not injected (untrusted notebook) */\n",
       "  display: none;\n",
       "}\n",
       "\n",
       ".xr-header {\n",
       "  padding-top: 6px;\n",
       "  padding-bottom: 6px;\n",
       "  margin-bottom: 4px;\n",
       "  border-bottom: solid 1px var(--xr-border-color);\n",
       "}\n",
       "\n",
       ".xr-header > div,\n",
       ".xr-header > ul {\n",
       "  display: inline;\n",
       "  margin-top: 0;\n",
       "  margin-bottom: 0;\n",
       "}\n",
       "\n",
       ".xr-obj-type,\n",
       ".xr-array-name {\n",
       "  margin-left: 2px;\n",
       "  margin-right: 10px;\n",
       "}\n",
       "\n",
       ".xr-obj-type {\n",
       "  color: var(--xr-font-color2);\n",
       "}\n",
       "\n",
       ".xr-sections {\n",
       "  padding-left: 0 !important;\n",
       "  display: grid;\n",
       "  grid-template-columns: 150px auto auto 1fr 20px 20px;\n",
       "}\n",
       "\n",
       ".xr-section-item {\n",
       "  display: contents;\n",
       "}\n",
       "\n",
       ".xr-section-item input {\n",
       "  display: none;\n",
       "}\n",
       "\n",
       ".xr-section-item input + label {\n",
       "  color: var(--xr-disabled-color);\n",
       "}\n",
       "\n",
       ".xr-section-item input:enabled + label {\n",
       "  cursor: pointer;\n",
       "  color: var(--xr-font-color2);\n",
       "}\n",
       "\n",
       ".xr-section-item input:enabled + label:hover {\n",
       "  color: var(--xr-font-color0);\n",
       "}\n",
       "\n",
       ".xr-section-summary {\n",
       "  grid-column: 1;\n",
       "  color: var(--xr-font-color2);\n",
       "  font-weight: 500;\n",
       "}\n",
       "\n",
       ".xr-section-summary > span {\n",
       "  display: inline-block;\n",
       "  padding-left: 0.5em;\n",
       "}\n",
       "\n",
       ".xr-section-summary-in:disabled + label {\n",
       "  color: var(--xr-font-color2);\n",
       "}\n",
       "\n",
       ".xr-section-summary-in + label:before {\n",
       "  display: inline-block;\n",
       "  content: '►';\n",
       "  font-size: 11px;\n",
       "  width: 15px;\n",
       "  text-align: center;\n",
       "}\n",
       "\n",
       ".xr-section-summary-in:disabled + label:before {\n",
       "  color: var(--xr-disabled-color);\n",
       "}\n",
       "\n",
       ".xr-section-summary-in:checked + label:before {\n",
       "  content: '▼';\n",
       "}\n",
       "\n",
       ".xr-section-summary-in:checked + label > span {\n",
       "  display: none;\n",
       "}\n",
       "\n",
       ".xr-section-summary,\n",
       ".xr-section-inline-details {\n",
       "  padding-top: 4px;\n",
       "  padding-bottom: 4px;\n",
       "}\n",
       "\n",
       ".xr-section-inline-details {\n",
       "  grid-column: 2 / -1;\n",
       "}\n",
       "\n",
       ".xr-section-details {\n",
       "  display: none;\n",
       "  grid-column: 1 / -1;\n",
       "  margin-bottom: 5px;\n",
       "}\n",
       "\n",
       ".xr-section-summary-in:checked ~ .xr-section-details {\n",
       "  display: contents;\n",
       "}\n",
       "\n",
       ".xr-array-wrap {\n",
       "  grid-column: 1 / -1;\n",
       "  display: grid;\n",
       "  grid-template-columns: 20px auto;\n",
       "}\n",
       "\n",
       ".xr-array-wrap > label {\n",
       "  grid-column: 1;\n",
       "  vertical-align: top;\n",
       "}\n",
       "\n",
       ".xr-preview {\n",
       "  color: var(--xr-font-color3);\n",
       "}\n",
       "\n",
       ".xr-array-preview,\n",
       ".xr-array-data {\n",
       "  padding: 0 5px !important;\n",
       "  grid-column: 2;\n",
       "}\n",
       "\n",
       ".xr-array-data,\n",
       ".xr-array-in:checked ~ .xr-array-preview {\n",
       "  display: none;\n",
       "}\n",
       "\n",
       ".xr-array-in:checked ~ .xr-array-data,\n",
       ".xr-array-preview {\n",
       "  display: inline-block;\n",
       "}\n",
       "\n",
       ".xr-dim-list {\n",
       "  display: inline-block !important;\n",
       "  list-style: none;\n",
       "  padding: 0 !important;\n",
       "  margin: 0;\n",
       "}\n",
       "\n",
       ".xr-dim-list li {\n",
       "  display: inline-block;\n",
       "  padding: 0;\n",
       "  margin: 0;\n",
       "}\n",
       "\n",
       ".xr-dim-list:before {\n",
       "  content: '(';\n",
       "}\n",
       "\n",
       ".xr-dim-list:after {\n",
       "  content: ')';\n",
       "}\n",
       "\n",
       ".xr-dim-list li:not(:last-child):after {\n",
       "  content: ',';\n",
       "  padding-right: 5px;\n",
       "}\n",
       "\n",
       ".xr-has-index {\n",
       "  font-weight: bold;\n",
       "}\n",
       "\n",
       ".xr-var-list,\n",
       ".xr-var-item {\n",
       "  display: contents;\n",
       "}\n",
       "\n",
       ".xr-var-item > div,\n",
       ".xr-var-item label,\n",
       ".xr-var-item > .xr-var-name span {\n",
       "  background-color: var(--xr-background-color-row-even);\n",
       "  margin-bottom: 0;\n",
       "}\n",
       "\n",
       ".xr-var-item > .xr-var-name:hover span {\n",
       "  padding-right: 5px;\n",
       "}\n",
       "\n",
       ".xr-var-list > li:nth-child(odd) > div,\n",
       ".xr-var-list > li:nth-child(odd) > label,\n",
       ".xr-var-list > li:nth-child(odd) > .xr-var-name span {\n",
       "  background-color: var(--xr-background-color-row-odd);\n",
       "}\n",
       "\n",
       ".xr-var-name {\n",
       "  grid-column: 1;\n",
       "}\n",
       "\n",
       ".xr-var-dims {\n",
       "  grid-column: 2;\n",
       "}\n",
       "\n",
       ".xr-var-dtype {\n",
       "  grid-column: 3;\n",
       "  text-align: right;\n",
       "  color: var(--xr-font-color2);\n",
       "}\n",
       "\n",
       ".xr-var-preview {\n",
       "  grid-column: 4;\n",
       "}\n",
       "\n",
       ".xr-index-preview {\n",
       "  grid-column: 2 / 5;\n",
       "  color: var(--xr-font-color2);\n",
       "}\n",
       "\n",
       ".xr-var-name,\n",
       ".xr-var-dims,\n",
       ".xr-var-dtype,\n",
       ".xr-preview,\n",
       ".xr-attrs dt {\n",
       "  white-space: nowrap;\n",
       "  overflow: hidden;\n",
       "  text-overflow: ellipsis;\n",
       "  padding-right: 10px;\n",
       "}\n",
       "\n",
       ".xr-var-name:hover,\n",
       ".xr-var-dims:hover,\n",
       ".xr-var-dtype:hover,\n",
       ".xr-attrs dt:hover {\n",
       "  overflow: visible;\n",
       "  width: auto;\n",
       "  z-index: 1;\n",
       "}\n",
       "\n",
       ".xr-var-attrs,\n",
       ".xr-var-data,\n",
       ".xr-index-data {\n",
       "  display: none;\n",
       "  background-color: var(--xr-background-color) !important;\n",
       "  padding-bottom: 5px !important;\n",
       "}\n",
       "\n",
       ".xr-var-attrs-in:checked ~ .xr-var-attrs,\n",
       ".xr-var-data-in:checked ~ .xr-var-data,\n",
       ".xr-index-data-in:checked ~ .xr-index-data {\n",
       "  display: block;\n",
       "}\n",
       "\n",
       ".xr-var-data > table {\n",
       "  float: right;\n",
       "}\n",
       "\n",
       ".xr-var-name span,\n",
       ".xr-var-data,\n",
       ".xr-index-name div,\n",
       ".xr-index-data,\n",
       ".xr-attrs {\n",
       "  padding-left: 25px !important;\n",
       "}\n",
       "\n",
       ".xr-attrs,\n",
       ".xr-var-attrs,\n",
       ".xr-var-data,\n",
       ".xr-index-data {\n",
       "  grid-column: 1 / -1;\n",
       "}\n",
       "\n",
       "dl.xr-attrs {\n",
       "  padding: 0;\n",
       "  margin: 0;\n",
       "  display: grid;\n",
       "  grid-template-columns: 125px auto;\n",
       "}\n",
       "\n",
       ".xr-attrs dt,\n",
       ".xr-attrs dd {\n",
       "  padding: 0;\n",
       "  margin: 0;\n",
       "  float: left;\n",
       "  padding-right: 10px;\n",
       "  width: auto;\n",
       "}\n",
       "\n",
       ".xr-attrs dt {\n",
       "  font-weight: normal;\n",
       "  grid-column: 1;\n",
       "}\n",
       "\n",
       ".xr-attrs dt:hover span {\n",
       "  display: inline-block;\n",
       "  background: var(--xr-background-color);\n",
       "  padding-right: 10px;\n",
       "}\n",
       "\n",
       ".xr-attrs dd {\n",
       "  grid-column: 2;\n",
       "  white-space: pre-wrap;\n",
       "  word-break: break-all;\n",
       "}\n",
       "\n",
       ".xr-icon-database,\n",
       ".xr-icon-file-text2,\n",
       ".xr-no-icon {\n",
       "  display: inline-block;\n",
       "  vertical-align: middle;\n",
       "  width: 1em;\n",
       "  height: 1.5em !important;\n",
       "  stroke-width: 0;\n",
       "  stroke: currentColor;\n",
       "  fill: currentColor;\n",
       "}\n",
       "</style><pre class='xr-text-repr-fallback'>&lt;xarray.Dataset&gt;\n",
       "Dimensions:             (time: 33580, distance: 1721)\n",
       "Dimensions without coordinates: time, distance\n",
       "Data variables:\n",
       "    RawData             (time, distance) float32 dask.array&lt;chunksize=(3000, 1721), meta=np.ndarray&gt;\n",
       "    RawDataSampleCount  (time) int64 dask.array&lt;chunksize=(3000,), meta=np.ndarray&gt;\n",
       "    RawDataTime         (time) int64 dask.array&lt;chunksize=(3000,), meta=np.ndarray&gt;</pre><div class='xr-wrap' style='display:none'><div class='xr-header'><div class='xr-obj-type'>xarray.Dataset</div></div><ul class='xr-sections'><li class='xr-section-item'><input id='section-5b7324ba-8545-4363-ba88-0b46b18b1d00' class='xr-section-summary-in' type='checkbox' disabled ><label for='section-5b7324ba-8545-4363-ba88-0b46b18b1d00' class='xr-section-summary'  title='Expand/collapse section'>Dimensions:</label><div class='xr-section-inline-details'><ul class='xr-dim-list'><li><span>time</span>: 33580</li><li><span>distance</span>: 1721</li></ul></div><div class='xr-section-details'></div></li><li class='xr-section-item'><input id='section-bca3682a-e636-47a4-8138-d275e4d2fb13' class='xr-section-summary-in' type='checkbox' disabled ><label for='section-bca3682a-e636-47a4-8138-d275e4d2fb13' class='xr-section-summary'  title='Expand/collapse section'>Coordinates: <span>(0)</span></label><div class='xr-section-inline-details'></div><div class='xr-section-details'><ul class='xr-var-list'></ul></div></li><li class='xr-section-item'><input id='section-ba66e0f1-59a7-4330-b60a-57488b909b47' class='xr-section-summary-in' type='checkbox'  checked><label for='section-ba66e0f1-59a7-4330-b60a-57488b909b47' class='xr-section-summary' >Data variables: <span>(3)</span></label><div class='xr-section-inline-details'></div><div class='xr-section-details'><ul class='xr-var-list'><li class='xr-var-item'><div class='xr-var-name'><span>RawData</span></div><div class='xr-var-dims'>(time, distance)</div><div class='xr-var-dtype'>float32</div><div class='xr-var-preview xr-preview'>dask.array&lt;chunksize=(3000, 1721), meta=np.ndarray&gt;</div><input id='attrs-4a8a5678-1015-48c7-96f9-61a1794c0f27' class='xr-var-attrs-in' type='checkbox' disabled><label for='attrs-4a8a5678-1015-48c7-96f9-61a1794c0f27' title='Show/Hide attributes'><svg class='icon xr-icon-file-text2'><use xlink:href='#icon-file-text2'></use></svg></label><input id='data-6af3d659-f41d-4e1a-93d4-2328e7db0048' class='xr-var-data-in' type='checkbox'><label for='data-6af3d659-f41d-4e1a-93d4-2328e7db0048' title='Show/Hide data repr'><svg class='icon xr-icon-database'><use xlink:href='#icon-database'></use></svg></label><div class='xr-var-attrs'><dl class='xr-attrs'></dl></div><div class='xr-var-data'><table>\n",
       "    <tr>\n",
       "        <td>\n",
       "            <table>\n",
       "                <thead>\n",
       "                    <tr>\n",
       "                        <td> </td>\n",
       "                        <th> Array </th>\n",
       "                        <th> Chunk </th>\n",
       "                    </tr>\n",
       "                </thead>\n",
       "                <tbody>\n",
       "                    \n",
       "                    <tr>\n",
       "                        <th> Bytes </th>\n",
       "                        <td> 220.46 MiB </td>\n",
       "                        <td> 19.70 MiB </td>\n",
       "                    </tr>\n",
       "                    \n",
       "                    <tr>\n",
       "                        <th> Shape </th>\n",
       "                        <td> (33580, 1721) </td>\n",
       "                        <td> (3000, 1721) </td>\n",
       "                    </tr>\n",
       "                    <tr>\n",
       "                        <th> Count </th>\n",
       "                        <td> 13 Tasks </td>\n",
       "                        <td> 12 Chunks </td>\n",
       "                    </tr>\n",
       "                    <tr>\n",
       "                    <th> Type </th>\n",
       "                    <td> float32 </td>\n",
       "                    <td> numpy.ndarray </td>\n",
       "                    </tr>\n",
       "                </tbody>\n",
       "            </table>\n",
       "        </td>\n",
       "        <td>\n",
       "        <svg width=\"84\" height=\"170\" style=\"stroke:rgb(0,0,0);stroke-width:1\" >\n",
       "\n",
       "  <!-- Horizontal lines -->\n",
       "  <line x1=\"0\" y1=\"0\" x2=\"34\" y2=\"0\" style=\"stroke-width:2\" />\n",
       "  <line x1=\"0\" y1=\"10\" x2=\"34\" y2=\"10\" />\n",
       "  <line x1=\"0\" y1=\"21\" x2=\"34\" y2=\"21\" />\n",
       "  <line x1=\"0\" y1=\"32\" x2=\"34\" y2=\"32\" />\n",
       "  <line x1=\"0\" y1=\"42\" x2=\"34\" y2=\"42\" />\n",
       "  <line x1=\"0\" y1=\"53\" x2=\"34\" y2=\"53\" />\n",
       "  <line x1=\"0\" y1=\"64\" x2=\"34\" y2=\"64\" />\n",
       "  <line x1=\"0\" y1=\"75\" x2=\"34\" y2=\"75\" />\n",
       "  <line x1=\"0\" y1=\"85\" x2=\"34\" y2=\"85\" />\n",
       "  <line x1=\"0\" y1=\"96\" x2=\"34\" y2=\"96\" />\n",
       "  <line x1=\"0\" y1=\"107\" x2=\"34\" y2=\"107\" />\n",
       "  <line x1=\"0\" y1=\"117\" x2=\"34\" y2=\"117\" />\n",
       "  <line x1=\"0\" y1=\"120\" x2=\"34\" y2=\"120\" style=\"stroke-width:2\" />\n",
       "\n",
       "  <!-- Vertical lines -->\n",
       "  <line x1=\"0\" y1=\"0\" x2=\"0\" y2=\"120\" style=\"stroke-width:2\" />\n",
       "  <line x1=\"34\" y1=\"0\" x2=\"34\" y2=\"120\" style=\"stroke-width:2\" />\n",
       "\n",
       "  <!-- Colored Rectangle -->\n",
       "  <polygon points=\"0.0,0.0 34.652242470105456,0.0 34.652242470105456,120.0 0.0,120.0\" style=\"fill:#ECB172A0;stroke-width:0\"/>\n",
       "\n",
       "  <!-- Text -->\n",
       "  <text x=\"17.326121\" y=\"140.000000\" font-size=\"1.0rem\" font-weight=\"100\" text-anchor=\"middle\" >1721</text>\n",
       "  <text x=\"54.652242\" y=\"60.000000\" font-size=\"1.0rem\" font-weight=\"100\" text-anchor=\"middle\" transform=\"rotate(-90,54.652242,60.000000)\">33580</text>\n",
       "</svg>\n",
       "        </td>\n",
       "    </tr>\n",
       "</table></div></li><li class='xr-var-item'><div class='xr-var-name'><span>RawDataSampleCount</span></div><div class='xr-var-dims'>(time)</div><div class='xr-var-dtype'>int64</div><div class='xr-var-preview xr-preview'>dask.array&lt;chunksize=(3000,), meta=np.ndarray&gt;</div><input id='attrs-443c8fde-7b64-42e5-9e26-78875f06ee3a' class='xr-var-attrs-in' type='checkbox' disabled><label for='attrs-443c8fde-7b64-42e5-9e26-78875f06ee3a' title='Show/Hide attributes'><svg class='icon xr-icon-file-text2'><use xlink:href='#icon-file-text2'></use></svg></label><input id='data-1d3e70e5-5581-4b5a-ab8d-8c851bc18213' class='xr-var-data-in' type='checkbox'><label for='data-1d3e70e5-5581-4b5a-ab8d-8c851bc18213' title='Show/Hide data repr'><svg class='icon xr-icon-database'><use xlink:href='#icon-database'></use></svg></label><div class='xr-var-attrs'><dl class='xr-attrs'></dl></div><div class='xr-var-data'><table>\n",
       "    <tr>\n",
       "        <td>\n",
       "            <table>\n",
       "                <thead>\n",
       "                    <tr>\n",
       "                        <td> </td>\n",
       "                        <th> Array </th>\n",
       "                        <th> Chunk </th>\n",
       "                    </tr>\n",
       "                </thead>\n",
       "                <tbody>\n",
       "                    \n",
       "                    <tr>\n",
       "                        <th> Bytes </th>\n",
       "                        <td> 262.34 kiB </td>\n",
       "                        <td> 23.44 kiB </td>\n",
       "                    </tr>\n",
       "                    \n",
       "                    <tr>\n",
       "                        <th> Shape </th>\n",
       "                        <td> (33580,) </td>\n",
       "                        <td> (3000,) </td>\n",
       "                    </tr>\n",
       "                    <tr>\n",
       "                        <th> Count </th>\n",
       "                        <td> 13 Tasks </td>\n",
       "                        <td> 12 Chunks </td>\n",
       "                    </tr>\n",
       "                    <tr>\n",
       "                    <th> Type </th>\n",
       "                    <td> int64 </td>\n",
       "                    <td> numpy.ndarray </td>\n",
       "                    </tr>\n",
       "                </tbody>\n",
       "            </table>\n",
       "        </td>\n",
       "        <td>\n",
       "        <svg width=\"170\" height=\"75\" style=\"stroke:rgb(0,0,0);stroke-width:1\" >\n",
       "\n",
       "  <!-- Horizontal lines -->\n",
       "  <line x1=\"0\" y1=\"0\" x2=\"120\" y2=\"0\" style=\"stroke-width:2\" />\n",
       "  <line x1=\"0\" y1=\"25\" x2=\"120\" y2=\"25\" style=\"stroke-width:2\" />\n",
       "\n",
       "  <!-- Vertical lines -->\n",
       "  <line x1=\"0\" y1=\"0\" x2=\"0\" y2=\"25\" style=\"stroke-width:2\" />\n",
       "  <line x1=\"10\" y1=\"0\" x2=\"10\" y2=\"25\" />\n",
       "  <line x1=\"21\" y1=\"0\" x2=\"21\" y2=\"25\" />\n",
       "  <line x1=\"32\" y1=\"0\" x2=\"32\" y2=\"25\" />\n",
       "  <line x1=\"42\" y1=\"0\" x2=\"42\" y2=\"25\" />\n",
       "  <line x1=\"53\" y1=\"0\" x2=\"53\" y2=\"25\" />\n",
       "  <line x1=\"64\" y1=\"0\" x2=\"64\" y2=\"25\" />\n",
       "  <line x1=\"75\" y1=\"0\" x2=\"75\" y2=\"25\" />\n",
       "  <line x1=\"85\" y1=\"0\" x2=\"85\" y2=\"25\" />\n",
       "  <line x1=\"96\" y1=\"0\" x2=\"96\" y2=\"25\" />\n",
       "  <line x1=\"107\" y1=\"0\" x2=\"107\" y2=\"25\" />\n",
       "  <line x1=\"117\" y1=\"0\" x2=\"117\" y2=\"25\" />\n",
       "  <line x1=\"120\" y1=\"0\" x2=\"120\" y2=\"25\" style=\"stroke-width:2\" />\n",
       "\n",
       "  <!-- Colored Rectangle -->\n",
       "  <polygon points=\"0.0,0.0 120.0,0.0 120.0,25.412616514582485 0.0,25.412616514582485\" style=\"fill:#ECB172A0;stroke-width:0\"/>\n",
       "\n",
       "  <!-- Text -->\n",
       "  <text x=\"60.000000\" y=\"45.412617\" font-size=\"1.0rem\" font-weight=\"100\" text-anchor=\"middle\" >33580</text>\n",
       "  <text x=\"140.000000\" y=\"12.706308\" font-size=\"1.0rem\" font-weight=\"100\" text-anchor=\"middle\" transform=\"rotate(0,140.000000,12.706308)\">1</text>\n",
       "</svg>\n",
       "        </td>\n",
       "    </tr>\n",
       "</table></div></li><li class='xr-var-item'><div class='xr-var-name'><span>RawDataTime</span></div><div class='xr-var-dims'>(time)</div><div class='xr-var-dtype'>int64</div><div class='xr-var-preview xr-preview'>dask.array&lt;chunksize=(3000,), meta=np.ndarray&gt;</div><input id='attrs-e7383ae0-e49a-4491-ade8-ed500d6e446d' class='xr-var-attrs-in' type='checkbox' disabled><label for='attrs-e7383ae0-e49a-4491-ade8-ed500d6e446d' title='Show/Hide attributes'><svg class='icon xr-icon-file-text2'><use xlink:href='#icon-file-text2'></use></svg></label><input id='data-8fe9ceed-8f83-414d-967c-20293829c2bf' class='xr-var-data-in' type='checkbox'><label for='data-8fe9ceed-8f83-414d-967c-20293829c2bf' title='Show/Hide data repr'><svg class='icon xr-icon-database'><use xlink:href='#icon-database'></use></svg></label><div class='xr-var-attrs'><dl class='xr-attrs'></dl></div><div class='xr-var-data'><table>\n",
       "    <tr>\n",
       "        <td>\n",
       "            <table>\n",
       "                <thead>\n",
       "                    <tr>\n",
       "                        <td> </td>\n",
       "                        <th> Array </th>\n",
       "                        <th> Chunk </th>\n",
       "                    </tr>\n",
       "                </thead>\n",
       "                <tbody>\n",
       "                    \n",
       "                    <tr>\n",
       "                        <th> Bytes </th>\n",
       "                        <td> 262.34 kiB </td>\n",
       "                        <td> 23.44 kiB </td>\n",
       "                    </tr>\n",
       "                    \n",
       "                    <tr>\n",
       "                        <th> Shape </th>\n",
       "                        <td> (33580,) </td>\n",
       "                        <td> (3000,) </td>\n",
       "                    </tr>\n",
       "                    <tr>\n",
       "                        <th> Count </th>\n",
       "                        <td> 13 Tasks </td>\n",
       "                        <td> 12 Chunks </td>\n",
       "                    </tr>\n",
       "                    <tr>\n",
       "                    <th> Type </th>\n",
       "                    <td> int64 </td>\n",
       "                    <td> numpy.ndarray </td>\n",
       "                    </tr>\n",
       "                </tbody>\n",
       "            </table>\n",
       "        </td>\n",
       "        <td>\n",
       "        <svg width=\"170\" height=\"75\" style=\"stroke:rgb(0,0,0);stroke-width:1\" >\n",
       "\n",
       "  <!-- Horizontal lines -->\n",
       "  <line x1=\"0\" y1=\"0\" x2=\"120\" y2=\"0\" style=\"stroke-width:2\" />\n",
       "  <line x1=\"0\" y1=\"25\" x2=\"120\" y2=\"25\" style=\"stroke-width:2\" />\n",
       "\n",
       "  <!-- Vertical lines -->\n",
       "  <line x1=\"0\" y1=\"0\" x2=\"0\" y2=\"25\" style=\"stroke-width:2\" />\n",
       "  <line x1=\"10\" y1=\"0\" x2=\"10\" y2=\"25\" />\n",
       "  <line x1=\"21\" y1=\"0\" x2=\"21\" y2=\"25\" />\n",
       "  <line x1=\"32\" y1=\"0\" x2=\"32\" y2=\"25\" />\n",
       "  <line x1=\"42\" y1=\"0\" x2=\"42\" y2=\"25\" />\n",
       "  <line x1=\"53\" y1=\"0\" x2=\"53\" y2=\"25\" />\n",
       "  <line x1=\"64\" y1=\"0\" x2=\"64\" y2=\"25\" />\n",
       "  <line x1=\"75\" y1=\"0\" x2=\"75\" y2=\"25\" />\n",
       "  <line x1=\"85\" y1=\"0\" x2=\"85\" y2=\"25\" />\n",
       "  <line x1=\"96\" y1=\"0\" x2=\"96\" y2=\"25\" />\n",
       "  <line x1=\"107\" y1=\"0\" x2=\"107\" y2=\"25\" />\n",
       "  <line x1=\"117\" y1=\"0\" x2=\"117\" y2=\"25\" />\n",
       "  <line x1=\"120\" y1=\"0\" x2=\"120\" y2=\"25\" style=\"stroke-width:2\" />\n",
       "\n",
       "  <!-- Colored Rectangle -->\n",
       "  <polygon points=\"0.0,0.0 120.0,0.0 120.0,25.412616514582485 0.0,25.412616514582485\" style=\"fill:#ECB172A0;stroke-width:0\"/>\n",
       "\n",
       "  <!-- Text -->\n",
       "  <text x=\"60.000000\" y=\"45.412617\" font-size=\"1.0rem\" font-weight=\"100\" text-anchor=\"middle\" >33580</text>\n",
       "  <text x=\"140.000000\" y=\"12.706308\" font-size=\"1.0rem\" font-weight=\"100\" text-anchor=\"middle\" transform=\"rotate(0,140.000000,12.706308)\">1</text>\n",
       "</svg>\n",
       "        </td>\n",
       "    </tr>\n",
       "</table></div></li></ul></div></li><li class='xr-section-item'><input id='section-842b0fca-d950-4113-8582-2de3aae5e98a' class='xr-section-summary-in' type='checkbox' disabled ><label for='section-842b0fca-d950-4113-8582-2de3aae5e98a' class='xr-section-summary'  title='Expand/collapse section'>Indexes: <span>(0)</span></label><div class='xr-section-inline-details'></div><div class='xr-section-details'><ul class='xr-var-list'></ul></div></li><li class='xr-section-item'><input id='section-58287851-da43-4235-b0ea-0f5808d3d194' class='xr-section-summary-in' type='checkbox' disabled ><label for='section-58287851-da43-4235-b0ea-0f5808d3d194' class='xr-section-summary'  title='Expand/collapse section'>Attributes: <span>(0)</span></label><div class='xr-section-inline-details'></div><div class='xr-section-details'><dl class='xr-attrs'></dl></div></li></ul></div></div>"
      ],
      "text/plain": [
       "<xarray.Dataset>\n",
       "Dimensions:             (time: 33580, distance: 1721)\n",
       "Dimensions without coordinates: time, distance\n",
       "Data variables:\n",
       "    RawData             (time, distance) float32 dask.array<chunksize=(3000, 1721), meta=np.ndarray>\n",
       "    RawDataSampleCount  (time) int64 dask.array<chunksize=(3000,), meta=np.ndarray>\n",
       "    RawDataTime         (time) int64 dask.array<chunksize=(3000,), meta=np.ndarray>"
      ]
     },
     "execution_count": 27,
     "metadata": {},
     "output_type": "execute_result"
    }
   ],
   "source": [
    "ds_temp"
   ]
  },
  {
   "cell_type": "code",
   "execution_count": null,
   "id": "9c95539f",
   "metadata": {},
   "outputs": [],
   "source": []
  }
 ],
 "metadata": {
  "kernelspec": {
   "display_name": "Python 3 (ipykernel)",
   "language": "python",
   "name": "python3"
  },
  "language_info": {
   "codemirror_mode": {
    "name": "ipython",
    "version": 3
   },
   "file_extension": ".py",
   "mimetype": "text/x-python",
   "name": "python",
   "nbconvert_exporter": "python",
   "pygments_lexer": "ipython3",
   "version": "3.9.13"
  }
 },
 "nbformat": 4,
 "nbformat_minor": 5
}
