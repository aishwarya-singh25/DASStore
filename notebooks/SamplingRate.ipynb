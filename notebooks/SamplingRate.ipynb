{
 "cells": [
  {
   "cell_type": "code",
   "execution_count": 1,
   "id": "78cf3f87",
   "metadata": {},
   "outputs": [],
   "source": [
    "import os\n",
    "import tqdm\n",
    "import h5py\n",
    "import xarray as xr\n",
    "from dask.distributed import Client\n",
    "from DASStore.modules import convert"
   ]
  },
  {
   "cell_type": "markdown",
   "id": "3adef5a9",
   "metadata": {},
   "source": [
    "# Taking a function from \n",
    "https://github.com/UW-ESS-DS/MLGeo2022_velgueta/blob/main/dasquakes.py"
   ]
  },
  {
   "cell_type": "code",
   "execution_count": 2,
   "id": "37d88d65",
   "metadata": {},
   "outputs": [],
   "source": [
    "import numpy as np\n",
    "import pandas as pd\n",
    "import datetime\n",
    "import h5py\n",
    "import glob\n",
    "from scipy.signal import detrend\n",
    "from numpy.fft import fftshift, fft2, fftfreq\n",
    "from datetime import datetime as DT\n",
    "import matplotlib.pyplot as plt\n",
    "import matplotlib.dates as mdates"
   ]
  },
  {
   "cell_type": "code",
   "execution_count": 64,
   "id": "66326d9a",
   "metadata": {},
   "outputs": [],
   "source": [
    "def sintela_to_datetime(sintela_times):\n",
    "    '''\n",
    "    returns an array of datetime.datetime \n",
    "    ''' \n",
    "    days1970 = datetime.date(1970, 1, 1).toordinal()\n",
    "\n",
    "    # Vectorize everything\n",
    "    converttime = np.vectorize(datetime.datetime.fromordinal)\n",
    "    addday_lambda = lambda x : datetime.timedelta(days=x)\n",
    "    adddays = np.vectorize(addday_lambda )\n",
    "    \n",
    "    day = days1970 + sintela_times/1e6/60/60/24\n",
    "    thisDateTime = converttime(np.floor(day).astype(int))\n",
    "    dayFraction = day-np.floor(day)\n",
    "    thisDateTime = thisDateTime + adddays(dayFraction)\n",
    "\n",
    "    return thisDateTime"
   ]
  },
  {
   "cell_type": "code",
   "execution_count": 65,
   "id": "8b90320e",
   "metadata": {},
   "outputs": [],
   "source": [
    "def get_file_number(pth,prefix,t0,verbose=False):\n",
    "    \n",
    "    datestr = '{d.year}-{d.month:02}-{d.day:02}_{d.hour:02}-{d.minute:02}'.format(d=t0)\n",
    "\n",
    "    file = f\"{pth}{prefix}_{datestr}*.h5\"\n",
    "    if verbose:\n",
    "        print(file)\n",
    "\n",
    "    if len(glob.glob(file)) > 0:\n",
    "        file_list = glob.glob(file)[0]\n",
    "#         print(glob.glob(file))\n",
    "        file_number = file_list.split('_')[-1]\n",
    "        file_number = file_number.split('.')[0]\n",
    "        file_number = int(file_number)\n",
    "        return file_number\n",
    "    else:\n",
    "        return -1"
   ]
  },
  {
   "cell_type": "code",
   "execution_count": 66,
   "id": "b89e7106",
   "metadata": {},
   "outputs": [],
   "source": [
    "def open_sintela_file(file_base_name,t0,pth,\n",
    "                      chan_min=0,\n",
    "                      chan_max=-1,\n",
    "                      number_of_files=1,\n",
    "                      verbose=False,\n",
    "                      pad=False):\n",
    "\n",
    "    data = np.array([])\n",
    "    time = np.array([])\n",
    "\n",
    "    \n",
    "    dt = datetime.timedelta(minutes=1) # Assume one minute file duration\n",
    "    this_files_date = t0\n",
    "    \n",
    "    for i in range(number_of_files):\n",
    "\n",
    "        file_number = get_file_number(pth,file_base_name,this_files_date,verbose=verbose)\n",
    "        print('file_number is ', file_number)\n",
    "        if file_number == -1:\n",
    "            raise ValueError('Failed to find file number.')\n",
    "#             return [-1], [-1], [-1]\n",
    "        date_str = this_files_date.strftime(\"%Y-%m-%d_%H-%M\") + \"-00\"\n",
    "        this_file = f'{pth}{file_base_name}_{date_str}_UTC_{file_number:06}.h5'\n",
    "        print('this_file is', this_file)\n",
    "        \n",
    "        try:\n",
    "            f = h5py.File(this_file,'r')\n",
    "            this_data = np.array(\n",
    "                f['Acquisition/Raw[0]/RawData'][:,chan_min:chan_max])\n",
    "            this_time = np.array(\n",
    "                f['Acquisition/Raw[0]/RawDataTime'])\n",
    "            \n",
    "            if i == 0:\n",
    "                time = sintela_to_datetime(this_time)\n",
    "                data = this_data\n",
    "                attrs=dict(f['Acquisition'].attrs)\n",
    "            else:\n",
    "                data = np.concatenate((data, this_data ))\n",
    "                time = np.concatenate((time, this_time ))\n",
    "                \n",
    "        except Exception as e: \n",
    "            print('File problem with: %s'%this_file)\n",
    "            print(e)\n",
    "            \n",
    "        this_files_date = this_files_date + dt\n",
    "          \n",
    "    return data, time, attrs"
   ]
  },
  {
   "cell_type": "markdown",
   "id": "45244965",
   "metadata": {},
   "source": [
    "# Creating my function"
   ]
  },
  {
   "cell_type": "code",
   "execution_count": 4,
   "id": "d6ecd0d6",
   "metadata": {},
   "outputs": [],
   "source": [
    "def get_sampling_rate(file_base_path, \n",
    "                      chan_min=0,\n",
    "                      chan_max=-1, \n",
    "                      verbose=False,\n",
    "                      pad=False):\n",
    "    data = np.array([])\n",
    "    time = np.array([])\n",
    "    collecting_samplerate = []\n",
    "\n",
    "        \n",
    "    dt = datetime.timedelta(minutes=1) # Assume one minute file duration\n",
    "    file_list = os.listdir(file_base_path)\n",
    "    \n",
    "    for i in range(len(file_list)):\n",
    "        if file_list[i].endswith(\".h5\"):\n",
    "            this_file = h5_files_path + file_list[i]\n",
    "        \n",
    "            try:\n",
    "                f = h5py.File(this_file,'r')\n",
    "                attrs = dict(f['Acquisition'].attrs)\n",
    "                collecting_samplerate.append(attrs['PulseRate'])\n",
    "#                 this_data = np.array(f['Acquisition/Raw[0]/RawData'][:,chan_min:chan_max])\n",
    "#                 this_time = np.array(f['Acquisition/Raw[0]/RawDataTime'])\n",
    "#                 if i == 0:\n",
    "#                     time = sintela_to_datetime(this_time)\n",
    "#                     data = this_data\n",
    "#                     attrs = dict(f['Acquisition'].attrs)\n",
    "#                     print('attrs right now', i, attrs)\n",
    "#                 else:\n",
    "#                     data = np.concatenate((data, this_data ))\n",
    "#                     time = np.concatenate((time, this_time ))\n",
    "#                 collecting_samplerate.append(attrs['PulseRate'])\n",
    "\n",
    "\n",
    "            except Exception as e: \n",
    "                print('File problem with: %s'%this_file)\n",
    "                print(e)\n",
    "    \n",
    "    return collecting_samplerate"
   ]
  },
  {
   "cell_type": "markdown",
   "id": "8e6989a2",
   "metadata": {},
   "source": [
    "# using original code by professor"
   ]
  },
  {
   "cell_type": "code",
   "execution_count": 81,
   "id": "2462f307",
   "metadata": {},
   "outputs": [
    {
     "name": "stdout",
     "output_type": "stream",
     "text": [
      "/Users/aishwaryasingh/ResearchProject/samplefiles/whidbey_2022-10-19_02-38*.h5\n",
      "file_number is  275\n",
      "this_file is /Users/aishwaryasingh/ResearchProject/samplefiles/whidbey_2022-10-19_02-38-00_UTC_000275.h5\n"
     ]
    }
   ],
   "source": [
    "# using original code by professor\n",
    "prefix = 'whidbey'\n",
    "t0 = datetime.datetime(2022, 10, 19, 2, 38, 0)\n",
    "t1 = datetime.datetime(2022, 10, 20, 9, 28, 0)\n",
    "record_length = 1 # minutes\n",
    "data,dates,attrs = open_sintela_file(prefix,\n",
    "                                     t0,\n",
    "                                     h5_files_path,\n",
    "                                     number_of_files=record_length,\n",
    "                                     verbose=True)"
   ]
  },
  {
   "cell_type": "code",
   "execution_count": 82,
   "id": "9be3b6af",
   "metadata": {},
   "outputs": [
    {
     "name": "stdout",
     "output_type": "stream",
     "text": [
      "(30000, 1720)\n",
      "500.0\n",
      "6.38095235824585\n",
      "6.38095235824585\n"
     ]
    }
   ],
   "source": [
    "GL = attrs['GaugeLength']\n",
    "fs = attrs['PulseRate']\n",
    "dx = attrs['SpatialSamplingInterval']\n",
    "x_max=data.shape[1] * dx\n",
    "print(data.shape)\n",
    "print(fs)\n",
    "print(dx)\n",
    "print(GL)"
   ]
  },
  {
   "cell_type": "code",
   "execution_count": 83,
   "id": "bbf2975f",
   "metadata": {},
   "outputs": [
    {
     "name": "stdout",
     "output_type": "stream",
     "text": [
      "/Users/aishwaryasingh/ResearchProject/samplefiles/whidbey_2022-10-20_09-28*.h5\n",
      "file_number is  2124\n",
      "this_file is /Users/aishwaryasingh/ResearchProject/samplefiles/whidbey_2022-10-20_09-28-00_UTC_002124.h5\n",
      "(120000, 1720)\n",
      "2000.0\n",
      "6.38095235824585\n",
      "6.38095235824585\n"
     ]
    }
   ],
   "source": [
    "data,dates,attrs = open_sintela_file(prefix,\n",
    "                                     t1,\n",
    "                                     h5_files_path,\n",
    "                                     number_of_files=record_length,\n",
    "                                     verbose=True)\n",
    "GL = attrs['GaugeLength']\n",
    "fs = attrs['PulseRate']\n",
    "dx = attrs['SpatialSamplingInterval']\n",
    "x_max=data.shape[1] * dx\n",
    "print(data.shape)\n",
    "print(fs)\n",
    "print(dx)\n",
    "print(GL)"
   ]
  },
  {
   "cell_type": "markdown",
   "id": "8b7c7308",
   "metadata": {},
   "source": [
    "# Creating my own code"
   ]
  },
  {
   "cell_type": "code",
   "execution_count": 5,
   "id": "8a24bbfb",
   "metadata": {},
   "outputs": [],
   "source": [
    "# h5_files_path = '/Users/aishwaryasingh/ResearchProject/samplefiles/'\n",
    "h5_files_path = '/Users/stlp/Desktop/samplefiles/'"
   ]
  },
  {
   "cell_type": "code",
   "execution_count": 6,
   "id": "9fca4e51",
   "metadata": {},
   "outputs": [
    {
     "data": {
      "text/plain": [
       "['whidbey_2022-10-19_00-21-00_UTC_000138.h5',\n",
       " 'whidbey_2022-10-19_00-15-00_UTC_000132.h5',\n",
       " 'whidbey_2022-10-20_15-54-00_UTC_002510.h5',\n",
       " '.DS_Store',\n",
       " 'whidbey_2022-10-20_15-52-00_UTC_002508.h5',\n",
       " 'whidbey_2022-10-21_11-57-00_UTC_003711.h5',\n",
       " 'DAS_file_details.csv',\n",
       " 'whidbey_2022-10-21_11-56-00_UTC_003710.h5',\n",
       " 'whidbey_2022-10-20_15-53-00_UTC_002509.h5',\n",
       " 'example.zarr',\n",
       " 'whidbey_2022-10-19_00-11-00_UTC_000128.h5',\n",
       " 'whidbey_2022-10-19_00-13-00_UTC_000130.h5',\n",
       " 'whidbey_2022-10-21_11-55-34_UTC_003709.h5',\n",
       " 'whidbey_2022-10-21_11-54-00_UTC_003709.h5',\n",
       " 'whidbey_2022-10-19_00-12-00_UTC_000129.h5',\n",
       " 'whidbey_2022-10-20_15-51-00_UTC_002507.h5',\n",
       " 'whidbey_2022-10-19_00-14-00_UTC_000131.h5',\n",
       " 'whidbey_2022-10-20_15-50-00_UTC_002506.h5',\n",
       " 'whidbey_2022-10-19_00-19-00_UTC_000136.h5',\n",
       " 'whidbey_2022-10-19_00-10-52_UTC_000127.h5',\n",
       " 'whidbey_2022-10-19_00-16-00_UTC_000133.h5']"
      ]
     },
     "execution_count": 6,
     "metadata": {},
     "output_type": "execute_result"
    }
   ],
   "source": [
    "os.listdir(h5_files_path)"
   ]
  },
  {
   "cell_type": "code",
   "execution_count": 129,
   "id": "6d2968d7",
   "metadata": {},
   "outputs": [
    {
     "name": "stdout",
     "output_type": "stream",
     "text": [
      "0\n",
      "/Users/aishwaryasingh/ResearchProject/samplefiles/whidbey_2022-10-20_09-28-00_UTC_002124.h5\n",
      "2\n",
      "/Users/aishwaryasingh/ResearchProject/samplefiles/whidbey_2022-10-19_02-38-00_UTC_000275.h5\n"
     ]
    }
   ],
   "source": [
    "file_list = os.listdir(h5_files_path)\n",
    "for i in (range(len(file_list))):\n",
    "    if file_list[i].endswith(\".h5\"):\n",
    "        print(i)\n",
    "        this_file = h5_files_path + file_list[i]\n",
    "        print(this_file)"
   ]
  },
  {
   "cell_type": "code",
   "execution_count": 7,
   "id": "642c882a",
   "metadata": {},
   "outputs": [
    {
     "data": {
      "text/plain": [
       "[500.0,\n",
       " 500.0,\n",
       " 2000.0,\n",
       " 2000.0,\n",
       " 2000.0,\n",
       " 2000.0,\n",
       " 2000.0,\n",
       " 500.0,\n",
       " 500.0,\n",
       " 2000.0,\n",
       " 2000.0,\n",
       " 500.0,\n",
       " 2000.0,\n",
       " 500.0,\n",
       " 2000.0,\n",
       " 500.0,\n",
       " 500.0,\n",
       " 500.0]"
      ]
     },
     "execution_count": 7,
     "metadata": {},
     "output_type": "execute_result"
    }
   ],
   "source": [
    "get_sampling_rate(file_base_path = h5_files_path)"
   ]
  },
  {
   "cell_type": "markdown",
   "id": "729b831e",
   "metadata": {},
   "source": [
    "# Creating the pandas dataframe"
   ]
  },
  {
   "cell_type": "markdown",
   "id": "b5355e42",
   "metadata": {},
   "source": [
    "Goal is to create a csv file\n",
    "* of all file names\n",
    "* dimensions in time and distance\n",
    "* sampling rate\n",
    "\n",
    "dont know how to do this - Start time and end time of the file"
   ]
  },
  {
   "cell_type": "code",
   "execution_count": 8,
   "id": "db9024c0",
   "metadata": {},
   "outputs": [],
   "source": [
    "File_Name = []\n",
    "Time_dimension = []\n",
    "Dist_dimension = []\n",
    "\n",
    "file_list = os.listdir(h5_files_path)"
   ]
  },
  {
   "cell_type": "code",
   "execution_count": 9,
   "id": "10b0d118",
   "metadata": {},
   "outputs": [],
   "source": [
    "for i in range(len(file_list)):\n",
    "    if file_list[i].endswith(\".h5\"):\n",
    "        File_Name.append(file_list[i])\n",
    "        file = h5py.File(h5_files_path+file_list[i], 'r')\n",
    "        Time_dimension.append(file['Acquisition']['Raw[0]']['RawData'].shape[0])\n",
    "        Dist_dimension.append(file['Acquisition']['Raw[0]']['RawData'].shape[1])"
   ]
  },
  {
   "cell_type": "code",
   "execution_count": 10,
   "id": "67c5c57a",
   "metadata": {},
   "outputs": [
    {
     "data": {
      "text/plain": [
       "['whidbey_2022-10-19_00-21-00_UTC_000138.h5',\n",
       " 'whidbey_2022-10-19_00-15-00_UTC_000132.h5',\n",
       " 'whidbey_2022-10-20_15-54-00_UTC_002510.h5',\n",
       " 'whidbey_2022-10-20_15-52-00_UTC_002508.h5',\n",
       " 'whidbey_2022-10-21_11-57-00_UTC_003711.h5',\n",
       " 'whidbey_2022-10-21_11-56-00_UTC_003710.h5',\n",
       " 'whidbey_2022-10-20_15-53-00_UTC_002509.h5',\n",
       " 'whidbey_2022-10-19_00-11-00_UTC_000128.h5',\n",
       " 'whidbey_2022-10-19_00-13-00_UTC_000130.h5',\n",
       " 'whidbey_2022-10-21_11-55-34_UTC_003709.h5',\n",
       " 'whidbey_2022-10-21_11-54-00_UTC_003709.h5',\n",
       " 'whidbey_2022-10-19_00-12-00_UTC_000129.h5',\n",
       " 'whidbey_2022-10-20_15-51-00_UTC_002507.h5',\n",
       " 'whidbey_2022-10-19_00-14-00_UTC_000131.h5',\n",
       " 'whidbey_2022-10-20_15-50-00_UTC_002506.h5',\n",
       " 'whidbey_2022-10-19_00-19-00_UTC_000136.h5',\n",
       " 'whidbey_2022-10-19_00-10-52_UTC_000127.h5',\n",
       " 'whidbey_2022-10-19_00-16-00_UTC_000133.h5']"
      ]
     },
     "execution_count": 10,
     "metadata": {},
     "output_type": "execute_result"
    }
   ],
   "source": [
    "File_Name"
   ]
  },
  {
   "cell_type": "code",
   "execution_count": 11,
   "id": "8d954894",
   "metadata": {},
   "outputs": [
    {
     "data": {
      "text/plain": [
       "[30000,\n",
       " 30000,\n",
       " 120000,\n",
       " 120000,\n",
       " 120000,\n",
       " 120000,\n",
       " 120000,\n",
       " 30000,\n",
       " 30000,\n",
       " 50648,\n",
       " 98856,\n",
       " 30000,\n",
       " 120000,\n",
       " 30000,\n",
       " 120000,\n",
       " 30000,\n",
       " 3580,\n",
       " 25176]"
      ]
     },
     "execution_count": 11,
     "metadata": {},
     "output_type": "execute_result"
    }
   ],
   "source": [
    "Time_dimension"
   ]
  },
  {
   "cell_type": "code",
   "execution_count": 12,
   "id": "54739e08",
   "metadata": {},
   "outputs": [],
   "source": [
    "Sampling_Rate = get_sampling_rate(file_base_path = h5_files_path)"
   ]
  },
  {
   "cell_type": "code",
   "execution_count": 13,
   "id": "2785af98",
   "metadata": {},
   "outputs": [
    {
     "data": {
      "text/plain": [
       "(18, 18, 18, 18)"
      ]
     },
     "execution_count": 13,
     "metadata": {},
     "output_type": "execute_result"
    }
   ],
   "source": [
    "len(File_Name), len(Time_dimension), len(Dist_dimension), len(Sampling_Rate)"
   ]
  },
  {
   "cell_type": "code",
   "execution_count": 14,
   "id": "2837170b",
   "metadata": {},
   "outputs": [],
   "source": [
    "data = {'File_Name': File_Name,\n",
    "        'Time_dimension': Time_dimension,\n",
    "        'Dist_dimension': Dist_dimension,\n",
    "        'Sampling_Rate': Sampling_Rate}"
   ]
  },
  {
   "cell_type": "code",
   "execution_count": 15,
   "id": "a85fa284",
   "metadata": {},
   "outputs": [],
   "source": [
    "DAS_file_details = pd.DataFrame(data)"
   ]
  },
  {
   "cell_type": "code",
   "execution_count": 17,
   "id": "9c95539f",
   "metadata": {},
   "outputs": [
    {
     "data": {
      "text/html": [
       "<div>\n",
       "<style scoped>\n",
       "    .dataframe tbody tr th:only-of-type {\n",
       "        vertical-align: middle;\n",
       "    }\n",
       "\n",
       "    .dataframe tbody tr th {\n",
       "        vertical-align: top;\n",
       "    }\n",
       "\n",
       "    .dataframe thead th {\n",
       "        text-align: right;\n",
       "    }\n",
       "</style>\n",
       "<table border=\"1\" class=\"dataframe\">\n",
       "  <thead>\n",
       "    <tr style=\"text-align: right;\">\n",
       "      <th></th>\n",
       "      <th>File_Name</th>\n",
       "      <th>Time_dimension</th>\n",
       "      <th>Dist_dimension</th>\n",
       "      <th>Sampling_Rate</th>\n",
       "    </tr>\n",
       "  </thead>\n",
       "  <tbody>\n",
       "    <tr>\n",
       "      <th>0</th>\n",
       "      <td>whidbey_2022-10-19_00-21-00_UTC_000138.h5</td>\n",
       "      <td>30000</td>\n",
       "      <td>1721</td>\n",
       "      <td>500.0</td>\n",
       "    </tr>\n",
       "    <tr>\n",
       "      <th>1</th>\n",
       "      <td>whidbey_2022-10-19_00-15-00_UTC_000132.h5</td>\n",
       "      <td>30000</td>\n",
       "      <td>1721</td>\n",
       "      <td>500.0</td>\n",
       "    </tr>\n",
       "    <tr>\n",
       "      <th>2</th>\n",
       "      <td>whidbey_2022-10-20_15-54-00_UTC_002510.h5</td>\n",
       "      <td>120000</td>\n",
       "      <td>1721</td>\n",
       "      <td>2000.0</td>\n",
       "    </tr>\n",
       "    <tr>\n",
       "      <th>3</th>\n",
       "      <td>whidbey_2022-10-20_15-52-00_UTC_002508.h5</td>\n",
       "      <td>120000</td>\n",
       "      <td>1721</td>\n",
       "      <td>2000.0</td>\n",
       "    </tr>\n",
       "    <tr>\n",
       "      <th>4</th>\n",
       "      <td>whidbey_2022-10-21_11-57-00_UTC_003711.h5</td>\n",
       "      <td>120000</td>\n",
       "      <td>1721</td>\n",
       "      <td>2000.0</td>\n",
       "    </tr>\n",
       "    <tr>\n",
       "      <th>5</th>\n",
       "      <td>whidbey_2022-10-21_11-56-00_UTC_003710.h5</td>\n",
       "      <td>120000</td>\n",
       "      <td>1721</td>\n",
       "      <td>2000.0</td>\n",
       "    </tr>\n",
       "    <tr>\n",
       "      <th>6</th>\n",
       "      <td>whidbey_2022-10-20_15-53-00_UTC_002509.h5</td>\n",
       "      <td>120000</td>\n",
       "      <td>1721</td>\n",
       "      <td>2000.0</td>\n",
       "    </tr>\n",
       "    <tr>\n",
       "      <th>7</th>\n",
       "      <td>whidbey_2022-10-19_00-11-00_UTC_000128.h5</td>\n",
       "      <td>30000</td>\n",
       "      <td>1721</td>\n",
       "      <td>500.0</td>\n",
       "    </tr>\n",
       "    <tr>\n",
       "      <th>8</th>\n",
       "      <td>whidbey_2022-10-19_00-13-00_UTC_000130.h5</td>\n",
       "      <td>30000</td>\n",
       "      <td>1721</td>\n",
       "      <td>500.0</td>\n",
       "    </tr>\n",
       "    <tr>\n",
       "      <th>9</th>\n",
       "      <td>whidbey_2022-10-21_11-55-34_UTC_003709.h5</td>\n",
       "      <td>50648</td>\n",
       "      <td>1721</td>\n",
       "      <td>2000.0</td>\n",
       "    </tr>\n",
       "    <tr>\n",
       "      <th>10</th>\n",
       "      <td>whidbey_2022-10-21_11-54-00_UTC_003709.h5</td>\n",
       "      <td>98856</td>\n",
       "      <td>1721</td>\n",
       "      <td>2000.0</td>\n",
       "    </tr>\n",
       "    <tr>\n",
       "      <th>11</th>\n",
       "      <td>whidbey_2022-10-19_00-12-00_UTC_000129.h5</td>\n",
       "      <td>30000</td>\n",
       "      <td>1721</td>\n",
       "      <td>500.0</td>\n",
       "    </tr>\n",
       "    <tr>\n",
       "      <th>12</th>\n",
       "      <td>whidbey_2022-10-20_15-51-00_UTC_002507.h5</td>\n",
       "      <td>120000</td>\n",
       "      <td>1721</td>\n",
       "      <td>2000.0</td>\n",
       "    </tr>\n",
       "    <tr>\n",
       "      <th>13</th>\n",
       "      <td>whidbey_2022-10-19_00-14-00_UTC_000131.h5</td>\n",
       "      <td>30000</td>\n",
       "      <td>1721</td>\n",
       "      <td>500.0</td>\n",
       "    </tr>\n",
       "    <tr>\n",
       "      <th>14</th>\n",
       "      <td>whidbey_2022-10-20_15-50-00_UTC_002506.h5</td>\n",
       "      <td>120000</td>\n",
       "      <td>1721</td>\n",
       "      <td>2000.0</td>\n",
       "    </tr>\n",
       "    <tr>\n",
       "      <th>15</th>\n",
       "      <td>whidbey_2022-10-19_00-19-00_UTC_000136.h5</td>\n",
       "      <td>30000</td>\n",
       "      <td>1721</td>\n",
       "      <td>500.0</td>\n",
       "    </tr>\n",
       "    <tr>\n",
       "      <th>16</th>\n",
       "      <td>whidbey_2022-10-19_00-10-52_UTC_000127.h5</td>\n",
       "      <td>3580</td>\n",
       "      <td>1721</td>\n",
       "      <td>500.0</td>\n",
       "    </tr>\n",
       "    <tr>\n",
       "      <th>17</th>\n",
       "      <td>whidbey_2022-10-19_00-16-00_UTC_000133.h5</td>\n",
       "      <td>25176</td>\n",
       "      <td>1721</td>\n",
       "      <td>500.0</td>\n",
       "    </tr>\n",
       "  </tbody>\n",
       "</table>\n",
       "</div>"
      ],
      "text/plain": [
       "                                    File_Name  Time_dimension  Dist_dimension  \\\n",
       "0   whidbey_2022-10-19_00-21-00_UTC_000138.h5           30000            1721   \n",
       "1   whidbey_2022-10-19_00-15-00_UTC_000132.h5           30000            1721   \n",
       "2   whidbey_2022-10-20_15-54-00_UTC_002510.h5          120000            1721   \n",
       "3   whidbey_2022-10-20_15-52-00_UTC_002508.h5          120000            1721   \n",
       "4   whidbey_2022-10-21_11-57-00_UTC_003711.h5          120000            1721   \n",
       "5   whidbey_2022-10-21_11-56-00_UTC_003710.h5          120000            1721   \n",
       "6   whidbey_2022-10-20_15-53-00_UTC_002509.h5          120000            1721   \n",
       "7   whidbey_2022-10-19_00-11-00_UTC_000128.h5           30000            1721   \n",
       "8   whidbey_2022-10-19_00-13-00_UTC_000130.h5           30000            1721   \n",
       "9   whidbey_2022-10-21_11-55-34_UTC_003709.h5           50648            1721   \n",
       "10  whidbey_2022-10-21_11-54-00_UTC_003709.h5           98856            1721   \n",
       "11  whidbey_2022-10-19_00-12-00_UTC_000129.h5           30000            1721   \n",
       "12  whidbey_2022-10-20_15-51-00_UTC_002507.h5          120000            1721   \n",
       "13  whidbey_2022-10-19_00-14-00_UTC_000131.h5           30000            1721   \n",
       "14  whidbey_2022-10-20_15-50-00_UTC_002506.h5          120000            1721   \n",
       "15  whidbey_2022-10-19_00-19-00_UTC_000136.h5           30000            1721   \n",
       "16  whidbey_2022-10-19_00-10-52_UTC_000127.h5            3580            1721   \n",
       "17  whidbey_2022-10-19_00-16-00_UTC_000133.h5           25176            1721   \n",
       "\n",
       "    Sampling_Rate  \n",
       "0           500.0  \n",
       "1           500.0  \n",
       "2          2000.0  \n",
       "3          2000.0  \n",
       "4          2000.0  \n",
       "5          2000.0  \n",
       "6          2000.0  \n",
       "7           500.0  \n",
       "8           500.0  \n",
       "9          2000.0  \n",
       "10         2000.0  \n",
       "11          500.0  \n",
       "12         2000.0  \n",
       "13          500.0  \n",
       "14         2000.0  \n",
       "15          500.0  \n",
       "16          500.0  \n",
       "17          500.0  "
      ]
     },
     "execution_count": 17,
     "metadata": {},
     "output_type": "execute_result"
    }
   ],
   "source": [
    "DAS_file_details"
   ]
  },
  {
   "cell_type": "code",
   "execution_count": null,
   "id": "0fdf7d4b",
   "metadata": {},
   "outputs": [],
   "source": [
    "# DAS_file_details.to_csv('DAS_file_details.csv', index = False)"
   ]
  }
 ],
 "metadata": {
  "kernelspec": {
   "display_name": "Python 3 (ipykernel)",
   "language": "python",
   "name": "python3"
  },
  "language_info": {
   "codemirror_mode": {
    "name": "ipython",
    "version": 3
   },
   "file_extension": ".py",
   "mimetype": "text/x-python",
   "name": "python",
   "nbconvert_exporter": "python",
   "pygments_lexer": "ipython3",
   "version": "3.9.13"
  }
 },
 "nbformat": 4,
 "nbformat_minor": 5
}
